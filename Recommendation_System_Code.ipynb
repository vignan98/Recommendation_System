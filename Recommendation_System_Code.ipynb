{
  "cells": [
    {
      "cell_type": "code",
      "execution_count": 3,
      "id": "f30c4b30",
      "metadata": {
        "id": "f30c4b30"
      },
      "outputs": [],
      "source": [
        "import pandas as pd\n",
        "import numpy as np\n",
        "\n",
        "import seaborn as sns\n",
        "import plotly.express as px\n",
        "import plotly.graph_objects as go\n",
        "import matplotlib.pyplot as plt\n",
        "\n",
        "from tqdm import tqdm\n"
      ]
    },
    {
      "cell_type": "code",
      "execution_count": 4,
      "id": "bbd06c82",
      "metadata": {
        "colab": {
          "base_uri": "https://localhost:8080/"
        },
        "id": "bbd06c82",
        "outputId": "b9fed727-14d9-413e-f153-12f7ec688be2"
      },
      "outputs": [
        {
          "output_type": "stream",
          "name": "stderr",
          "text": [
            "<ipython-input-4-cc10dbac3bbf>:1: DtypeWarning: Columns (10) have mixed types. Specify dtype option on import or set low_memory=False.\n",
            "  movie_metadata= pd.read_csv('movies_metadata.csv')\n"
          ]
        }
      ],
      "source": [
        "movie_metadata= pd.read_csv('movies_metadata.csv')"
      ]
    },
    {
      "cell_type": "code",
      "execution_count": 5,
      "id": "723f7625",
      "metadata": {
        "id": "723f7625"
      },
      "outputs": [],
      "source": [
        "movie_keywords= pd.read_csv('keywords.csv')"
      ]
    },
    {
      "cell_type": "code",
      "source": [
        "movie_keywords['keywords']"
      ],
      "metadata": {
        "colab": {
          "base_uri": "https://localhost:8080/"
        },
        "id": "xQLWUpq_bvAX",
        "outputId": "92b1dd4b-738e-4889-9003-505eb26f924e"
      },
      "id": "xQLWUpq_bvAX",
      "execution_count": 6,
      "outputs": [
        {
          "output_type": "execute_result",
          "data": {
            "text/plain": [
              "0        [{'id': 931, 'name': 'jealousy'}, {'id': 4290,...\n",
              "1        [{'id': 10090, 'name': 'board game'}, {'id': 1...\n",
              "2        [{'id': 1495, 'name': 'fishing'}, {'id': 12392...\n",
              "3        [{'id': 818, 'name': 'based on novel'}, {'id':...\n",
              "4        [{'id': 1009, 'name': 'baby'}, {'id': 1599, 'n...\n",
              "                               ...                        \n",
              "46414               [{'id': 10703, 'name': 'tragic love'}]\n",
              "46415    [{'id': 2679, 'name': 'artist'}, {'id': 14531,...\n",
              "46416                                                   []\n",
              "46417                                                   []\n",
              "46418                                                   []\n",
              "Name: keywords, Length: 46419, dtype: object"
            ]
          },
          "metadata": {},
          "execution_count": 6
        }
      ]
    },
    {
      "cell_type": "code",
      "execution_count": 7,
      "id": "a68ae3d9",
      "metadata": {
        "id": "a68ae3d9"
      },
      "outputs": [],
      "source": [
        "movie_credits=pd.read_csv('credits.csv')"
      ]
    },
    {
      "cell_type": "code",
      "execution_count": 8,
      "id": "b921042c",
      "metadata": {
        "colab": {
          "base_uri": "https://localhost:8080/"
        },
        "id": "b921042c",
        "outputId": "49495f3b-7326-41c4-b089-f6bc0c472de4"
      },
      "outputs": [
        {
          "output_type": "execute_result",
          "data": {
            "text/plain": [
              "Index(['adult', 'belongs_to_collection', 'budget', 'genres', 'homepage', 'id',\n",
              "       'imdb_id', 'original_language', 'original_title', 'overview',\n",
              "       'popularity', 'poster_path', 'production_companies',\n",
              "       'production_countries', 'release_date', 'revenue', 'runtime',\n",
              "       'spoken_languages', 'status', 'tagline', 'title', 'video',\n",
              "       'vote_average', 'vote_count'],\n",
              "      dtype='object')"
            ]
          },
          "metadata": {},
          "execution_count": 8
        }
      ],
      "source": [
        "movie_metadata.columns"
      ]
    },
    {
      "cell_type": "code",
      "execution_count": 9,
      "id": "e906970c",
      "metadata": {
        "id": "e906970c"
      },
      "outputs": [],
      "source": [
        "# Considering movies that have vote count>50\n",
        "movie_metadata = movie_metadata[movie_metadata['vote_count']>=50]"
      ]
    },
    {
      "cell_type": "code",
      "execution_count": 10,
      "id": "22d30fbe",
      "metadata": {
        "id": "22d30fbe"
      },
      "outputs": [],
      "source": [
        "movie_metadata = movie_metadata[['id','original_title','overview','genres']]"
      ]
    },
    {
      "cell_type": "code",
      "execution_count": 11,
      "id": "b6a500a8",
      "metadata": {
        "id": "b6a500a8"
      },
      "outputs": [],
      "source": [
        "#  Duplicating the Title Column\n",
        "movie_metadata['title'] = movie_metadata['original_title'].copy()"
      ]
    },
    {
      "cell_type": "code",
      "execution_count": 12,
      "id": "0ec17289",
      "metadata": {
        "colab": {
          "base_uri": "https://localhost:8080/",
          "height": 206
        },
        "id": "0ec17289",
        "outputId": "01b89d2f-0887-4c54-bace-d1d7a41f8319"
      },
      "outputs": [
        {
          "output_type": "execute_result",
          "data": {
            "text/plain": [
              "      id               original_title  \\\n",
              "0    862                    Toy Story   \n",
              "1   8844                      Jumanji   \n",
              "2  15602             Grumpier Old Men   \n",
              "3  11862  Father of the Bride Part II   \n",
              "4    949                         Heat   \n",
              "\n",
              "                                            overview  \\\n",
              "0  Led by Woody, Andy's toys live happily in his ...   \n",
              "1  When siblings Judy and Peter discover an encha...   \n",
              "2  A family wedding reignites the ancient feud be...   \n",
              "3  Just when George Banks has recovered from his ...   \n",
              "4  Obsessive master thief, Neil McCauley leads a ...   \n",
              "\n",
              "                                              genres  \\\n",
              "0  [{'id': 16, 'name': 'Animation'}, {'id': 35, '...   \n",
              "1  [{'id': 12, 'name': 'Adventure'}, {'id': 14, '...   \n",
              "2  [{'id': 10749, 'name': 'Romance'}, {'id': 35, ...   \n",
              "3                     [{'id': 35, 'name': 'Comedy'}]   \n",
              "4  [{'id': 28, 'name': 'Action'}, {'id': 80, 'nam...   \n",
              "\n",
              "                         title  \n",
              "0                    Toy Story  \n",
              "1                      Jumanji  \n",
              "2             Grumpier Old Men  \n",
              "3  Father of the Bride Part II  \n",
              "4                         Heat  "
            ],
            "text/html": [
              "\n",
              "  <div id=\"df-eb1ee935-2bd5-456e-8559-f0ef2597e61f\">\n",
              "    <div class=\"colab-df-container\">\n",
              "      <div>\n",
              "<style scoped>\n",
              "    .dataframe tbody tr th:only-of-type {\n",
              "        vertical-align: middle;\n",
              "    }\n",
              "\n",
              "    .dataframe tbody tr th {\n",
              "        vertical-align: top;\n",
              "    }\n",
              "\n",
              "    .dataframe thead th {\n",
              "        text-align: right;\n",
              "    }\n",
              "</style>\n",
              "<table border=\"1\" class=\"dataframe\">\n",
              "  <thead>\n",
              "    <tr style=\"text-align: right;\">\n",
              "      <th></th>\n",
              "      <th>id</th>\n",
              "      <th>original_title</th>\n",
              "      <th>overview</th>\n",
              "      <th>genres</th>\n",
              "      <th>title</th>\n",
              "    </tr>\n",
              "  </thead>\n",
              "  <tbody>\n",
              "    <tr>\n",
              "      <th>0</th>\n",
              "      <td>862</td>\n",
              "      <td>Toy Story</td>\n",
              "      <td>Led by Woody, Andy's toys live happily in his ...</td>\n",
              "      <td>[{'id': 16, 'name': 'Animation'}, {'id': 35, '...</td>\n",
              "      <td>Toy Story</td>\n",
              "    </tr>\n",
              "    <tr>\n",
              "      <th>1</th>\n",
              "      <td>8844</td>\n",
              "      <td>Jumanji</td>\n",
              "      <td>When siblings Judy and Peter discover an encha...</td>\n",
              "      <td>[{'id': 12, 'name': 'Adventure'}, {'id': 14, '...</td>\n",
              "      <td>Jumanji</td>\n",
              "    </tr>\n",
              "    <tr>\n",
              "      <th>2</th>\n",
              "      <td>15602</td>\n",
              "      <td>Grumpier Old Men</td>\n",
              "      <td>A family wedding reignites the ancient feud be...</td>\n",
              "      <td>[{'id': 10749, 'name': 'Romance'}, {'id': 35, ...</td>\n",
              "      <td>Grumpier Old Men</td>\n",
              "    </tr>\n",
              "    <tr>\n",
              "      <th>3</th>\n",
              "      <td>11862</td>\n",
              "      <td>Father of the Bride Part II</td>\n",
              "      <td>Just when George Banks has recovered from his ...</td>\n",
              "      <td>[{'id': 35, 'name': 'Comedy'}]</td>\n",
              "      <td>Father of the Bride Part II</td>\n",
              "    </tr>\n",
              "    <tr>\n",
              "      <th>4</th>\n",
              "      <td>949</td>\n",
              "      <td>Heat</td>\n",
              "      <td>Obsessive master thief, Neil McCauley leads a ...</td>\n",
              "      <td>[{'id': 28, 'name': 'Action'}, {'id': 80, 'nam...</td>\n",
              "      <td>Heat</td>\n",
              "    </tr>\n",
              "  </tbody>\n",
              "</table>\n",
              "</div>\n",
              "      <button class=\"colab-df-convert\" onclick=\"convertToInteractive('df-eb1ee935-2bd5-456e-8559-f0ef2597e61f')\"\n",
              "              title=\"Convert this dataframe to an interactive table.\"\n",
              "              style=\"display:none;\">\n",
              "        \n",
              "  <svg xmlns=\"http://www.w3.org/2000/svg\" height=\"24px\"viewBox=\"0 0 24 24\"\n",
              "       width=\"24px\">\n",
              "    <path d=\"M0 0h24v24H0V0z\" fill=\"none\"/>\n",
              "    <path d=\"M18.56 5.44l.94 2.06.94-2.06 2.06-.94-2.06-.94-.94-2.06-.94 2.06-2.06.94zm-11 1L8.5 8.5l.94-2.06 2.06-.94-2.06-.94L8.5 2.5l-.94 2.06-2.06.94zm10 10l.94 2.06.94-2.06 2.06-.94-2.06-.94-.94-2.06-.94 2.06-2.06.94z\"/><path d=\"M17.41 7.96l-1.37-1.37c-.4-.4-.92-.59-1.43-.59-.52 0-1.04.2-1.43.59L10.3 9.45l-7.72 7.72c-.78.78-.78 2.05 0 2.83L4 21.41c.39.39.9.59 1.41.59.51 0 1.02-.2 1.41-.59l7.78-7.78 2.81-2.81c.8-.78.8-2.07 0-2.86zM5.41 20L4 18.59l7.72-7.72 1.47 1.35L5.41 20z\"/>\n",
              "  </svg>\n",
              "      </button>\n",
              "      \n",
              "  <style>\n",
              "    .colab-df-container {\n",
              "      display:flex;\n",
              "      flex-wrap:wrap;\n",
              "      gap: 12px;\n",
              "    }\n",
              "\n",
              "    .colab-df-convert {\n",
              "      background-color: #E8F0FE;\n",
              "      border: none;\n",
              "      border-radius: 50%;\n",
              "      cursor: pointer;\n",
              "      display: none;\n",
              "      fill: #1967D2;\n",
              "      height: 32px;\n",
              "      padding: 0 0 0 0;\n",
              "      width: 32px;\n",
              "    }\n",
              "\n",
              "    .colab-df-convert:hover {\n",
              "      background-color: #E2EBFA;\n",
              "      box-shadow: 0px 1px 2px rgba(60, 64, 67, 0.3), 0px 1px 3px 1px rgba(60, 64, 67, 0.15);\n",
              "      fill: #174EA6;\n",
              "    }\n",
              "\n",
              "    [theme=dark] .colab-df-convert {\n",
              "      background-color: #3B4455;\n",
              "      fill: #D2E3FC;\n",
              "    }\n",
              "\n",
              "    [theme=dark] .colab-df-convert:hover {\n",
              "      background-color: #434B5C;\n",
              "      box-shadow: 0px 1px 3px 1px rgba(0, 0, 0, 0.15);\n",
              "      filter: drop-shadow(0px 1px 2px rgba(0, 0, 0, 0.3));\n",
              "      fill: #FFFFFF;\n",
              "    }\n",
              "  </style>\n",
              "\n",
              "      <script>\n",
              "        const buttonEl =\n",
              "          document.querySelector('#df-eb1ee935-2bd5-456e-8559-f0ef2597e61f button.colab-df-convert');\n",
              "        buttonEl.style.display =\n",
              "          google.colab.kernel.accessAllowed ? 'block' : 'none';\n",
              "\n",
              "        async function convertToInteractive(key) {\n",
              "          const element = document.querySelector('#df-eb1ee935-2bd5-456e-8559-f0ef2597e61f');\n",
              "          const dataTable =\n",
              "            await google.colab.kernel.invokeFunction('convertToInteractive',\n",
              "                                                     [key], {});\n",
              "          if (!dataTable) return;\n",
              "\n",
              "          const docLinkHtml = 'Like what you see? Visit the ' +\n",
              "            '<a target=\"_blank\" href=https://colab.research.google.com/notebooks/data_table.ipynb>data table notebook</a>'\n",
              "            + ' to learn more about interactive tables.';\n",
              "          element.innerHTML = '';\n",
              "          dataTable['output_type'] = 'display_data';\n",
              "          await google.colab.output.renderOutput(dataTable, element);\n",
              "          const docLink = document.createElement('div');\n",
              "          docLink.innerHTML = docLinkHtml;\n",
              "          element.appendChild(docLink);\n",
              "        }\n",
              "      </script>\n",
              "    </div>\n",
              "  </div>\n",
              "  "
            ]
          },
          "metadata": {},
          "execution_count": 12
        }
      ],
      "source": [
        "movie_metadata.reset_index(inplace=True, drop=True)\n",
        "movie_metadata.head()"
      ]
    },
    {
      "cell_type": "code",
      "execution_count": 13,
      "id": "e202ed50",
      "metadata": {
        "colab": {
          "base_uri": "https://localhost:8080/",
          "height": 206
        },
        "id": "e202ed50",
        "outputId": "fd4c1483-0b98-44cc-b580-b4282ee74a1d"
      },
      "outputs": [
        {
          "output_type": "execute_result",
          "data": {
            "text/plain": [
              "      id                                           keywords\n",
              "0    862  [{'id': 931, 'name': 'jealousy'}, {'id': 4290,...\n",
              "1   8844  [{'id': 10090, 'name': 'board game'}, {'id': 1...\n",
              "2  15602  [{'id': 1495, 'name': 'fishing'}, {'id': 12392...\n",
              "3  31357  [{'id': 818, 'name': 'based on novel'}, {'id':...\n",
              "4  11862  [{'id': 1009, 'name': 'baby'}, {'id': 1599, 'n..."
            ],
            "text/html": [
              "\n",
              "  <div id=\"df-a4f21cdf-2e2b-4984-b08c-9d0782df1997\">\n",
              "    <div class=\"colab-df-container\">\n",
              "      <div>\n",
              "<style scoped>\n",
              "    .dataframe tbody tr th:only-of-type {\n",
              "        vertical-align: middle;\n",
              "    }\n",
              "\n",
              "    .dataframe tbody tr th {\n",
              "        vertical-align: top;\n",
              "    }\n",
              "\n",
              "    .dataframe thead th {\n",
              "        text-align: right;\n",
              "    }\n",
              "</style>\n",
              "<table border=\"1\" class=\"dataframe\">\n",
              "  <thead>\n",
              "    <tr style=\"text-align: right;\">\n",
              "      <th></th>\n",
              "      <th>id</th>\n",
              "      <th>keywords</th>\n",
              "    </tr>\n",
              "  </thead>\n",
              "  <tbody>\n",
              "    <tr>\n",
              "      <th>0</th>\n",
              "      <td>862</td>\n",
              "      <td>[{'id': 931, 'name': 'jealousy'}, {'id': 4290,...</td>\n",
              "    </tr>\n",
              "    <tr>\n",
              "      <th>1</th>\n",
              "      <td>8844</td>\n",
              "      <td>[{'id': 10090, 'name': 'board game'}, {'id': 1...</td>\n",
              "    </tr>\n",
              "    <tr>\n",
              "      <th>2</th>\n",
              "      <td>15602</td>\n",
              "      <td>[{'id': 1495, 'name': 'fishing'}, {'id': 12392...</td>\n",
              "    </tr>\n",
              "    <tr>\n",
              "      <th>3</th>\n",
              "      <td>31357</td>\n",
              "      <td>[{'id': 818, 'name': 'based on novel'}, {'id':...</td>\n",
              "    </tr>\n",
              "    <tr>\n",
              "      <th>4</th>\n",
              "      <td>11862</td>\n",
              "      <td>[{'id': 1009, 'name': 'baby'}, {'id': 1599, 'n...</td>\n",
              "    </tr>\n",
              "  </tbody>\n",
              "</table>\n",
              "</div>\n",
              "      <button class=\"colab-df-convert\" onclick=\"convertToInteractive('df-a4f21cdf-2e2b-4984-b08c-9d0782df1997')\"\n",
              "              title=\"Convert this dataframe to an interactive table.\"\n",
              "              style=\"display:none;\">\n",
              "        \n",
              "  <svg xmlns=\"http://www.w3.org/2000/svg\" height=\"24px\"viewBox=\"0 0 24 24\"\n",
              "       width=\"24px\">\n",
              "    <path d=\"M0 0h24v24H0V0z\" fill=\"none\"/>\n",
              "    <path d=\"M18.56 5.44l.94 2.06.94-2.06 2.06-.94-2.06-.94-.94-2.06-.94 2.06-2.06.94zm-11 1L8.5 8.5l.94-2.06 2.06-.94-2.06-.94L8.5 2.5l-.94 2.06-2.06.94zm10 10l.94 2.06.94-2.06 2.06-.94-2.06-.94-.94-2.06-.94 2.06-2.06.94z\"/><path d=\"M17.41 7.96l-1.37-1.37c-.4-.4-.92-.59-1.43-.59-.52 0-1.04.2-1.43.59L10.3 9.45l-7.72 7.72c-.78.78-.78 2.05 0 2.83L4 21.41c.39.39.9.59 1.41.59.51 0 1.02-.2 1.41-.59l7.78-7.78 2.81-2.81c.8-.78.8-2.07 0-2.86zM5.41 20L4 18.59l7.72-7.72 1.47 1.35L5.41 20z\"/>\n",
              "  </svg>\n",
              "      </button>\n",
              "      \n",
              "  <style>\n",
              "    .colab-df-container {\n",
              "      display:flex;\n",
              "      flex-wrap:wrap;\n",
              "      gap: 12px;\n",
              "    }\n",
              "\n",
              "    .colab-df-convert {\n",
              "      background-color: #E8F0FE;\n",
              "      border: none;\n",
              "      border-radius: 50%;\n",
              "      cursor: pointer;\n",
              "      display: none;\n",
              "      fill: #1967D2;\n",
              "      height: 32px;\n",
              "      padding: 0 0 0 0;\n",
              "      width: 32px;\n",
              "    }\n",
              "\n",
              "    .colab-df-convert:hover {\n",
              "      background-color: #E2EBFA;\n",
              "      box-shadow: 0px 1px 2px rgba(60, 64, 67, 0.3), 0px 1px 3px 1px rgba(60, 64, 67, 0.15);\n",
              "      fill: #174EA6;\n",
              "    }\n",
              "\n",
              "    [theme=dark] .colab-df-convert {\n",
              "      background-color: #3B4455;\n",
              "      fill: #D2E3FC;\n",
              "    }\n",
              "\n",
              "    [theme=dark] .colab-df-convert:hover {\n",
              "      background-color: #434B5C;\n",
              "      box-shadow: 0px 1px 3px 1px rgba(0, 0, 0, 0.15);\n",
              "      filter: drop-shadow(0px 1px 2px rgba(0, 0, 0, 0.3));\n",
              "      fill: #FFFFFF;\n",
              "    }\n",
              "  </style>\n",
              "\n",
              "      <script>\n",
              "        const buttonEl =\n",
              "          document.querySelector('#df-a4f21cdf-2e2b-4984-b08c-9d0782df1997 button.colab-df-convert');\n",
              "        buttonEl.style.display =\n",
              "          google.colab.kernel.accessAllowed ? 'block' : 'none';\n",
              "\n",
              "        async function convertToInteractive(key) {\n",
              "          const element = document.querySelector('#df-a4f21cdf-2e2b-4984-b08c-9d0782df1997');\n",
              "          const dataTable =\n",
              "            await google.colab.kernel.invokeFunction('convertToInteractive',\n",
              "                                                     [key], {});\n",
              "          if (!dataTable) return;\n",
              "\n",
              "          const docLinkHtml = 'Like what you see? Visit the ' +\n",
              "            '<a target=\"_blank\" href=https://colab.research.google.com/notebooks/data_table.ipynb>data table notebook</a>'\n",
              "            + ' to learn more about interactive tables.';\n",
              "          element.innerHTML = '';\n",
              "          dataTable['output_type'] = 'display_data';\n",
              "          await google.colab.output.renderOutput(dataTable, element);\n",
              "          const docLink = document.createElement('div');\n",
              "          docLink.innerHTML = docLinkHtml;\n",
              "          element.appendChild(docLink);\n",
              "        }\n",
              "      </script>\n",
              "    </div>\n",
              "  </div>\n",
              "  "
            ]
          },
          "metadata": {},
          "execution_count": 13
        }
      ],
      "source": [
        "movie_keywords.head()\n"
      ]
    },
    {
      "cell_type": "code",
      "execution_count": 14,
      "id": "629283a8",
      "metadata": {
        "colab": {
          "base_uri": "https://localhost:8080/",
          "height": 206
        },
        "id": "629283a8",
        "outputId": "2d3d2b14-989f-4af3-e1b4-676968f476bf"
      },
      "outputs": [
        {
          "output_type": "execute_result",
          "data": {
            "text/plain": [
              "                                                cast  \\\n",
              "0  [{'cast_id': 14, 'character': 'Woody (voice)',...   \n",
              "1  [{'cast_id': 1, 'character': 'Alan Parrish', '...   \n",
              "2  [{'cast_id': 2, 'character': 'Max Goldman', 'c...   \n",
              "3  [{'cast_id': 1, 'character': \"Savannah 'Vannah...   \n",
              "4  [{'cast_id': 1, 'character': 'George Banks', '...   \n",
              "\n",
              "                                                crew     id  \n",
              "0  [{'credit_id': '52fe4284c3a36847f8024f49', 'de...    862  \n",
              "1  [{'credit_id': '52fe44bfc3a36847f80a7cd1', 'de...   8844  \n",
              "2  [{'credit_id': '52fe466a9251416c75077a89', 'de...  15602  \n",
              "3  [{'credit_id': '52fe44779251416c91011acb', 'de...  31357  \n",
              "4  [{'credit_id': '52fe44959251416c75039ed7', 'de...  11862  "
            ],
            "text/html": [
              "\n",
              "  <div id=\"df-d6a71d3f-ae70-439e-972e-aa9463cc30b9\">\n",
              "    <div class=\"colab-df-container\">\n",
              "      <div>\n",
              "<style scoped>\n",
              "    .dataframe tbody tr th:only-of-type {\n",
              "        vertical-align: middle;\n",
              "    }\n",
              "\n",
              "    .dataframe tbody tr th {\n",
              "        vertical-align: top;\n",
              "    }\n",
              "\n",
              "    .dataframe thead th {\n",
              "        text-align: right;\n",
              "    }\n",
              "</style>\n",
              "<table border=\"1\" class=\"dataframe\">\n",
              "  <thead>\n",
              "    <tr style=\"text-align: right;\">\n",
              "      <th></th>\n",
              "      <th>cast</th>\n",
              "      <th>crew</th>\n",
              "      <th>id</th>\n",
              "    </tr>\n",
              "  </thead>\n",
              "  <tbody>\n",
              "    <tr>\n",
              "      <th>0</th>\n",
              "      <td>[{'cast_id': 14, 'character': 'Woody (voice)',...</td>\n",
              "      <td>[{'credit_id': '52fe4284c3a36847f8024f49', 'de...</td>\n",
              "      <td>862</td>\n",
              "    </tr>\n",
              "    <tr>\n",
              "      <th>1</th>\n",
              "      <td>[{'cast_id': 1, 'character': 'Alan Parrish', '...</td>\n",
              "      <td>[{'credit_id': '52fe44bfc3a36847f80a7cd1', 'de...</td>\n",
              "      <td>8844</td>\n",
              "    </tr>\n",
              "    <tr>\n",
              "      <th>2</th>\n",
              "      <td>[{'cast_id': 2, 'character': 'Max Goldman', 'c...</td>\n",
              "      <td>[{'credit_id': '52fe466a9251416c75077a89', 'de...</td>\n",
              "      <td>15602</td>\n",
              "    </tr>\n",
              "    <tr>\n",
              "      <th>3</th>\n",
              "      <td>[{'cast_id': 1, 'character': \"Savannah 'Vannah...</td>\n",
              "      <td>[{'credit_id': '52fe44779251416c91011acb', 'de...</td>\n",
              "      <td>31357</td>\n",
              "    </tr>\n",
              "    <tr>\n",
              "      <th>4</th>\n",
              "      <td>[{'cast_id': 1, 'character': 'George Banks', '...</td>\n",
              "      <td>[{'credit_id': '52fe44959251416c75039ed7', 'de...</td>\n",
              "      <td>11862</td>\n",
              "    </tr>\n",
              "  </tbody>\n",
              "</table>\n",
              "</div>\n",
              "      <button class=\"colab-df-convert\" onclick=\"convertToInteractive('df-d6a71d3f-ae70-439e-972e-aa9463cc30b9')\"\n",
              "              title=\"Convert this dataframe to an interactive table.\"\n",
              "              style=\"display:none;\">\n",
              "        \n",
              "  <svg xmlns=\"http://www.w3.org/2000/svg\" height=\"24px\"viewBox=\"0 0 24 24\"\n",
              "       width=\"24px\">\n",
              "    <path d=\"M0 0h24v24H0V0z\" fill=\"none\"/>\n",
              "    <path d=\"M18.56 5.44l.94 2.06.94-2.06 2.06-.94-2.06-.94-.94-2.06-.94 2.06-2.06.94zm-11 1L8.5 8.5l.94-2.06 2.06-.94-2.06-.94L8.5 2.5l-.94 2.06-2.06.94zm10 10l.94 2.06.94-2.06 2.06-.94-2.06-.94-.94-2.06-.94 2.06-2.06.94z\"/><path d=\"M17.41 7.96l-1.37-1.37c-.4-.4-.92-.59-1.43-.59-.52 0-1.04.2-1.43.59L10.3 9.45l-7.72 7.72c-.78.78-.78 2.05 0 2.83L4 21.41c.39.39.9.59 1.41.59.51 0 1.02-.2 1.41-.59l7.78-7.78 2.81-2.81c.8-.78.8-2.07 0-2.86zM5.41 20L4 18.59l7.72-7.72 1.47 1.35L5.41 20z\"/>\n",
              "  </svg>\n",
              "      </button>\n",
              "      \n",
              "  <style>\n",
              "    .colab-df-container {\n",
              "      display:flex;\n",
              "      flex-wrap:wrap;\n",
              "      gap: 12px;\n",
              "    }\n",
              "\n",
              "    .colab-df-convert {\n",
              "      background-color: #E8F0FE;\n",
              "      border: none;\n",
              "      border-radius: 50%;\n",
              "      cursor: pointer;\n",
              "      display: none;\n",
              "      fill: #1967D2;\n",
              "      height: 32px;\n",
              "      padding: 0 0 0 0;\n",
              "      width: 32px;\n",
              "    }\n",
              "\n",
              "    .colab-df-convert:hover {\n",
              "      background-color: #E2EBFA;\n",
              "      box-shadow: 0px 1px 2px rgba(60, 64, 67, 0.3), 0px 1px 3px 1px rgba(60, 64, 67, 0.15);\n",
              "      fill: #174EA6;\n",
              "    }\n",
              "\n",
              "    [theme=dark] .colab-df-convert {\n",
              "      background-color: #3B4455;\n",
              "      fill: #D2E3FC;\n",
              "    }\n",
              "\n",
              "    [theme=dark] .colab-df-convert:hover {\n",
              "      background-color: #434B5C;\n",
              "      box-shadow: 0px 1px 3px 1px rgba(0, 0, 0, 0.15);\n",
              "      filter: drop-shadow(0px 1px 2px rgba(0, 0, 0, 0.3));\n",
              "      fill: #FFFFFF;\n",
              "    }\n",
              "  </style>\n",
              "\n",
              "      <script>\n",
              "        const buttonEl =\n",
              "          document.querySelector('#df-d6a71d3f-ae70-439e-972e-aa9463cc30b9 button.colab-df-convert');\n",
              "        buttonEl.style.display =\n",
              "          google.colab.kernel.accessAllowed ? 'block' : 'none';\n",
              "\n",
              "        async function convertToInteractive(key) {\n",
              "          const element = document.querySelector('#df-d6a71d3f-ae70-439e-972e-aa9463cc30b9');\n",
              "          const dataTable =\n",
              "            await google.colab.kernel.invokeFunction('convertToInteractive',\n",
              "                                                     [key], {});\n",
              "          if (!dataTable) return;\n",
              "\n",
              "          const docLinkHtml = 'Like what you see? Visit the ' +\n",
              "            '<a target=\"_blank\" href=https://colab.research.google.com/notebooks/data_table.ipynb>data table notebook</a>'\n",
              "            + ' to learn more about interactive tables.';\n",
              "          element.innerHTML = '';\n",
              "          dataTable['output_type'] = 'display_data';\n",
              "          await google.colab.output.renderOutput(dataTable, element);\n",
              "          const docLink = document.createElement('div');\n",
              "          docLink.innerHTML = docLinkHtml;\n",
              "          element.appendChild(docLink);\n",
              "        }\n",
              "      </script>\n",
              "    </div>\n",
              "  </div>\n",
              "  "
            ]
          },
          "metadata": {},
          "execution_count": 14
        }
      ],
      "source": [
        "movie_credits.head()\n"
      ]
    },
    {
      "cell_type": "code",
      "execution_count": 15,
      "id": "1d5b46c4",
      "metadata": {
        "id": "1d5b46c4"
      },
      "outputs": [],
      "source": [
        "movie_credits = movie_credits[['id','cast']]"
      ]
    },
    {
      "cell_type": "code",
      "execution_count": 16,
      "id": "28c05815",
      "metadata": {
        "id": "28c05815"
      },
      "outputs": [],
      "source": [
        "movie_metadata = movie_metadata[movie_metadata['id'].str.isnumeric()]"
      ]
    },
    {
      "cell_type": "code",
      "execution_count": 22,
      "id": "488e477c",
      "metadata": {
        "id": "488e477c"
      },
      "outputs": [],
      "source": [
        "\n",
        "movie_metadata['id'] = movie_metadata['id'].astype(int)\n",
        "#Merging movie_metadata and movie_keywords \n",
        "dff = pd.merge(movie_metadata, movie_keywords, on='id', how='left')\n",
        "\n",
        "dff.reset_index(inplace=True, drop=True)"
      ]
    },
    {
      "cell_type": "code",
      "execution_count": 23,
      "id": "8682c4fb",
      "metadata": {
        "id": "8682c4fb"
      },
      "outputs": [],
      "source": [
        "# Merge with movie credits\n",
        "dff = pd.merge(dff, movie_credits, on='id', how='left')\n",
        "\n",
        "dff.reset_index(inplace=True, drop=True)"
      ]
    },
    {
      "cell_type": "markdown",
      "source": [
        "**Data Cleaning & Feature Extraction**"
      ],
      "metadata": {
        "id": "Y5q9o_nsofii"
      },
      "id": "Y5q9o_nsofii"
    },
    {
      "cell_type": "code",
      "execution_count": 24,
      "id": "8f61d1fd",
      "metadata": {
        "id": "8f61d1fd"
      },
      "outputs": [],
      "source": [
        "# Preprocessing genres, keywords, cast columns to extract keywords, genre and cast details\n",
        "dff['genres'] = dff['genres'].apply(lambda x: [i['name'] for i in eval(x)])\n",
        "dff['genres'] = dff['genres'].apply(lambda x: ' '.join([i.replace(\" \",\"\") for i in x]))\n",
        "dff['keywords'].fillna('[]', inplace=True)\n",
        "dff['keywords'] = dff['keywords'].apply(lambda x: [i['name'] for i in eval(x)])\n",
        "dff['keywords'] = dff['keywords'].apply(lambda x: ' '.join([i.replace(\" \",'') for i in x]))\n",
        "dff['cast'].fillna('[]', inplace=True)\n",
        "dff['cast'] = dff['cast'].apply(lambda x: [i['name'] for i in eval(x)])\n",
        "dff['cast'] = dff['cast'].apply(lambda x: ' '.join([i.replace(\" \",'') for i in x]))\n"
      ]
    },
    {
      "cell_type": "code",
      "execution_count": 26,
      "id": "119aeed4",
      "metadata": {
        "id": "119aeed4"
      },
      "outputs": [],
      "source": [
        "dff['key_tags'] = dff['overview'] + ' ' + dff['genres'] +  ' ' + dff['original_title'] + ' ' + dff['keywords'] + ' ' + dff['cast']"
      ]
    },
    {
      "cell_type": "code",
      "source": [
        "dff"
      ],
      "metadata": {
        "colab": {
          "base_uri": "https://localhost:8080/",
          "height": 641
        },
        "id": "ROh2pVCEktCS",
        "outputId": "48ae88b8-11b8-4d39-adb5-ed68f732938c"
      },
      "id": "ROh2pVCEktCS",
      "execution_count": 27,
      "outputs": [
        {
          "output_type": "execute_result",
          "data": {
            "text/plain": [
              "          id                original_title  \\\n",
              "0        862                     Toy Story   \n",
              "1       8844                       Jumanji   \n",
              "2      15602              Grumpier Old Men   \n",
              "3      11862   Father of the Bride Part II   \n",
              "4        949                          Heat   \n",
              "...      ...                           ...   \n",
              "9292  430365                À bras ouverts   \n",
              "9293  248705  Les Visiteurs: La Révolution   \n",
              "9294   44918                    Titanic II   \n",
              "9295  455661                In a Heartbeat   \n",
              "9296   14008                   Cadet Kelly   \n",
              "\n",
              "                                               overview  \\\n",
              "0     Led by Woody, Andy's toys live happily in his ...   \n",
              "1     When siblings Judy and Peter discover an encha...   \n",
              "2     A family wedding reignites the ancient feud be...   \n",
              "3     Just when George Banks has recovered from his ...   \n",
              "4     Obsessive master thief, Neil McCauley leads a ...   \n",
              "...                                                 ...   \n",
              "9292  Jean-Étienne Fougerole is an intellectual bohe...   \n",
              "9293  Stuck in the corridors of time, Godefroy de Mo...   \n",
              "9294  On the 100th anniversary of the original voyag...   \n",
              "9295  A closeted boy runs the risk of being outed by...   \n",
              "9296  Hyperactive teenager Kelly is enrolled into a ...   \n",
              "\n",
              "                               genres                         title  \\\n",
              "0             Animation Comedy Family                     Toy Story   \n",
              "1            Adventure Fantasy Family                       Jumanji   \n",
              "2                      Romance Comedy              Grumpier Old Men   \n",
              "3                              Comedy   Father of the Bride Part II   \n",
              "4         Action Crime Drama Thriller                          Heat   \n",
              "...                               ...                           ...   \n",
              "9292                           Comedy                À bras ouverts   \n",
              "9293                           Comedy  Les Visiteurs: La Révolution   \n",
              "9294        Action Adventure Thriller                    Titanic II   \n",
              "9295  Family Animation Romance Comedy                In a Heartbeat   \n",
              "9296                           Comedy                   Cadet Kelly   \n",
              "\n",
              "                                               keywords  \\\n",
              "0     jealousy toy boy friendship friends rivalry bo...   \n",
              "1     boardgame disappearance basedonchildren'sbook ...   \n",
              "2        fishing bestfriend duringcreditsstinger oldmen   \n",
              "3     baby midlifecrisis confidence aging daughter m...   \n",
              "4     robbery detective bank obsession chase shootin...   \n",
              "...                                                 ...   \n",
              "9292                                                      \n",
              "9293                nazis castle timetravel robespierre   \n",
              "9294                                           suspense   \n",
              "9295                           love teenager lgbt short   \n",
              "9296                                     militaryschool   \n",
              "\n",
              "                                                   cast  \\\n",
              "0     TomHanks TimAllen DonRickles JimVarney Wallace...   \n",
              "1     RobinWilliams JonathanHyde KirstenDunst Bradle...   \n",
              "2     WalterMatthau JackLemmon Ann-Margret SophiaLor...   \n",
              "3     SteveMartin DianeKeaton MartinShort KimberlyWi...   \n",
              "4     AlPacino RobertDeNiro ValKilmer JonVoight TomS...   \n",
              "...                                                 ...   \n",
              "9292  ChristianClavier AryAbittan ElsaZylberstein Cy...   \n",
              "9293  JeanReno ChristianClavier FranckDubosc KarinVi...   \n",
              "9294  ShaneVanDyke MarieWestbrook BruceDavison Brook...   \n",
              "9295                                                      \n",
              "9296  HilaryDuff ChristyCarlsonRomano GaryCole Shawn...   \n",
              "\n",
              "                                                   tags  \\\n",
              "0     Led by Woody, Andy's toys live happily in his ...   \n",
              "1     When siblings Judy and Peter discover an encha...   \n",
              "2     A family wedding reignites the ancient feud be...   \n",
              "3     Just when George Banks has recovered from his ...   \n",
              "4     Obsessive master thief, Neil McCauley leads a ...   \n",
              "...                                                 ...   \n",
              "9292  Jean-Étienne Fougerole is an intellectual bohe...   \n",
              "9293  Stuck in the corridors of time, Godefroy de Mo...   \n",
              "9294  On the 100th anniversary of the original voyag...   \n",
              "9295  A closeted boy runs the risk of being outed by...   \n",
              "9296  Hyperactive teenager Kelly is enrolled into a ...   \n",
              "\n",
              "                                               key_tags  \n",
              "0     Led by Woody, Andy's toys live happily in his ...  \n",
              "1     When siblings Judy and Peter discover an encha...  \n",
              "2     A family wedding reignites the ancient feud be...  \n",
              "3     Just when George Banks has recovered from his ...  \n",
              "4     Obsessive master thief, Neil McCauley leads a ...  \n",
              "...                                                 ...  \n",
              "9292  Jean-Étienne Fougerole is an intellectual bohe...  \n",
              "9293  Stuck in the corridors of time, Godefroy de Mo...  \n",
              "9294  On the 100th anniversary of the original voyag...  \n",
              "9295  A closeted boy runs the risk of being outed by...  \n",
              "9296  Hyperactive teenager Kelly is enrolled into a ...  \n",
              "\n",
              "[9297 rows x 9 columns]"
            ],
            "text/html": [
              "\n",
              "  <div id=\"df-48860a42-e43d-48eb-a0bf-2c2cb28747b2\">\n",
              "    <div class=\"colab-df-container\">\n",
              "      <div>\n",
              "<style scoped>\n",
              "    .dataframe tbody tr th:only-of-type {\n",
              "        vertical-align: middle;\n",
              "    }\n",
              "\n",
              "    .dataframe tbody tr th {\n",
              "        vertical-align: top;\n",
              "    }\n",
              "\n",
              "    .dataframe thead th {\n",
              "        text-align: right;\n",
              "    }\n",
              "</style>\n",
              "<table border=\"1\" class=\"dataframe\">\n",
              "  <thead>\n",
              "    <tr style=\"text-align: right;\">\n",
              "      <th></th>\n",
              "      <th>id</th>\n",
              "      <th>original_title</th>\n",
              "      <th>overview</th>\n",
              "      <th>genres</th>\n",
              "      <th>title</th>\n",
              "      <th>keywords</th>\n",
              "      <th>cast</th>\n",
              "      <th>tags</th>\n",
              "      <th>key_tags</th>\n",
              "    </tr>\n",
              "  </thead>\n",
              "  <tbody>\n",
              "    <tr>\n",
              "      <th>0</th>\n",
              "      <td>862</td>\n",
              "      <td>Toy Story</td>\n",
              "      <td>Led by Woody, Andy's toys live happily in his ...</td>\n",
              "      <td>Animation Comedy Family</td>\n",
              "      <td>Toy Story</td>\n",
              "      <td>jealousy toy boy friendship friends rivalry bo...</td>\n",
              "      <td>TomHanks TimAllen DonRickles JimVarney Wallace...</td>\n",
              "      <td>Led by Woody, Andy's toys live happily in his ...</td>\n",
              "      <td>Led by Woody, Andy's toys live happily in his ...</td>\n",
              "    </tr>\n",
              "    <tr>\n",
              "      <th>1</th>\n",
              "      <td>8844</td>\n",
              "      <td>Jumanji</td>\n",
              "      <td>When siblings Judy and Peter discover an encha...</td>\n",
              "      <td>Adventure Fantasy Family</td>\n",
              "      <td>Jumanji</td>\n",
              "      <td>boardgame disappearance basedonchildren'sbook ...</td>\n",
              "      <td>RobinWilliams JonathanHyde KirstenDunst Bradle...</td>\n",
              "      <td>When siblings Judy and Peter discover an encha...</td>\n",
              "      <td>When siblings Judy and Peter discover an encha...</td>\n",
              "    </tr>\n",
              "    <tr>\n",
              "      <th>2</th>\n",
              "      <td>15602</td>\n",
              "      <td>Grumpier Old Men</td>\n",
              "      <td>A family wedding reignites the ancient feud be...</td>\n",
              "      <td>Romance Comedy</td>\n",
              "      <td>Grumpier Old Men</td>\n",
              "      <td>fishing bestfriend duringcreditsstinger oldmen</td>\n",
              "      <td>WalterMatthau JackLemmon Ann-Margret SophiaLor...</td>\n",
              "      <td>A family wedding reignites the ancient feud be...</td>\n",
              "      <td>A family wedding reignites the ancient feud be...</td>\n",
              "    </tr>\n",
              "    <tr>\n",
              "      <th>3</th>\n",
              "      <td>11862</td>\n",
              "      <td>Father of the Bride Part II</td>\n",
              "      <td>Just when George Banks has recovered from his ...</td>\n",
              "      <td>Comedy</td>\n",
              "      <td>Father of the Bride Part II</td>\n",
              "      <td>baby midlifecrisis confidence aging daughter m...</td>\n",
              "      <td>SteveMartin DianeKeaton MartinShort KimberlyWi...</td>\n",
              "      <td>Just when George Banks has recovered from his ...</td>\n",
              "      <td>Just when George Banks has recovered from his ...</td>\n",
              "    </tr>\n",
              "    <tr>\n",
              "      <th>4</th>\n",
              "      <td>949</td>\n",
              "      <td>Heat</td>\n",
              "      <td>Obsessive master thief, Neil McCauley leads a ...</td>\n",
              "      <td>Action Crime Drama Thriller</td>\n",
              "      <td>Heat</td>\n",
              "      <td>robbery detective bank obsession chase shootin...</td>\n",
              "      <td>AlPacino RobertDeNiro ValKilmer JonVoight TomS...</td>\n",
              "      <td>Obsessive master thief, Neil McCauley leads a ...</td>\n",
              "      <td>Obsessive master thief, Neil McCauley leads a ...</td>\n",
              "    </tr>\n",
              "    <tr>\n",
              "      <th>...</th>\n",
              "      <td>...</td>\n",
              "      <td>...</td>\n",
              "      <td>...</td>\n",
              "      <td>...</td>\n",
              "      <td>...</td>\n",
              "      <td>...</td>\n",
              "      <td>...</td>\n",
              "      <td>...</td>\n",
              "      <td>...</td>\n",
              "    </tr>\n",
              "    <tr>\n",
              "      <th>9292</th>\n",
              "      <td>430365</td>\n",
              "      <td>À bras ouverts</td>\n",
              "      <td>Jean-Étienne Fougerole is an intellectual bohe...</td>\n",
              "      <td>Comedy</td>\n",
              "      <td>À bras ouverts</td>\n",
              "      <td></td>\n",
              "      <td>ChristianClavier AryAbittan ElsaZylberstein Cy...</td>\n",
              "      <td>Jean-Étienne Fougerole is an intellectual bohe...</td>\n",
              "      <td>Jean-Étienne Fougerole is an intellectual bohe...</td>\n",
              "    </tr>\n",
              "    <tr>\n",
              "      <th>9293</th>\n",
              "      <td>248705</td>\n",
              "      <td>Les Visiteurs: La Révolution</td>\n",
              "      <td>Stuck in the corridors of time, Godefroy de Mo...</td>\n",
              "      <td>Comedy</td>\n",
              "      <td>Les Visiteurs: La Révolution</td>\n",
              "      <td>nazis castle timetravel robespierre</td>\n",
              "      <td>JeanReno ChristianClavier FranckDubosc KarinVi...</td>\n",
              "      <td>Stuck in the corridors of time, Godefroy de Mo...</td>\n",
              "      <td>Stuck in the corridors of time, Godefroy de Mo...</td>\n",
              "    </tr>\n",
              "    <tr>\n",
              "      <th>9294</th>\n",
              "      <td>44918</td>\n",
              "      <td>Titanic II</td>\n",
              "      <td>On the 100th anniversary of the original voyag...</td>\n",
              "      <td>Action Adventure Thriller</td>\n",
              "      <td>Titanic II</td>\n",
              "      <td>suspense</td>\n",
              "      <td>ShaneVanDyke MarieWestbrook BruceDavison Brook...</td>\n",
              "      <td>On the 100th anniversary of the original voyag...</td>\n",
              "      <td>On the 100th anniversary of the original voyag...</td>\n",
              "    </tr>\n",
              "    <tr>\n",
              "      <th>9295</th>\n",
              "      <td>455661</td>\n",
              "      <td>In a Heartbeat</td>\n",
              "      <td>A closeted boy runs the risk of being outed by...</td>\n",
              "      <td>Family Animation Romance Comedy</td>\n",
              "      <td>In a Heartbeat</td>\n",
              "      <td>love teenager lgbt short</td>\n",
              "      <td></td>\n",
              "      <td>A closeted boy runs the risk of being outed by...</td>\n",
              "      <td>A closeted boy runs the risk of being outed by...</td>\n",
              "    </tr>\n",
              "    <tr>\n",
              "      <th>9296</th>\n",
              "      <td>14008</td>\n",
              "      <td>Cadet Kelly</td>\n",
              "      <td>Hyperactive teenager Kelly is enrolled into a ...</td>\n",
              "      <td>Comedy</td>\n",
              "      <td>Cadet Kelly</td>\n",
              "      <td>militaryschool</td>\n",
              "      <td>HilaryDuff ChristyCarlsonRomano GaryCole Shawn...</td>\n",
              "      <td>Hyperactive teenager Kelly is enrolled into a ...</td>\n",
              "      <td>Hyperactive teenager Kelly is enrolled into a ...</td>\n",
              "    </tr>\n",
              "  </tbody>\n",
              "</table>\n",
              "<p>9297 rows × 9 columns</p>\n",
              "</div>\n",
              "      <button class=\"colab-df-convert\" onclick=\"convertToInteractive('df-48860a42-e43d-48eb-a0bf-2c2cb28747b2')\"\n",
              "              title=\"Convert this dataframe to an interactive table.\"\n",
              "              style=\"display:none;\">\n",
              "        \n",
              "  <svg xmlns=\"http://www.w3.org/2000/svg\" height=\"24px\"viewBox=\"0 0 24 24\"\n",
              "       width=\"24px\">\n",
              "    <path d=\"M0 0h24v24H0V0z\" fill=\"none\"/>\n",
              "    <path d=\"M18.56 5.44l.94 2.06.94-2.06 2.06-.94-2.06-.94-.94-2.06-.94 2.06-2.06.94zm-11 1L8.5 8.5l.94-2.06 2.06-.94-2.06-.94L8.5 2.5l-.94 2.06-2.06.94zm10 10l.94 2.06.94-2.06 2.06-.94-2.06-.94-.94-2.06-.94 2.06-2.06.94z\"/><path d=\"M17.41 7.96l-1.37-1.37c-.4-.4-.92-.59-1.43-.59-.52 0-1.04.2-1.43.59L10.3 9.45l-7.72 7.72c-.78.78-.78 2.05 0 2.83L4 21.41c.39.39.9.59 1.41.59.51 0 1.02-.2 1.41-.59l7.78-7.78 2.81-2.81c.8-.78.8-2.07 0-2.86zM5.41 20L4 18.59l7.72-7.72 1.47 1.35L5.41 20z\"/>\n",
              "  </svg>\n",
              "      </button>\n",
              "      \n",
              "  <style>\n",
              "    .colab-df-container {\n",
              "      display:flex;\n",
              "      flex-wrap:wrap;\n",
              "      gap: 12px;\n",
              "    }\n",
              "\n",
              "    .colab-df-convert {\n",
              "      background-color: #E8F0FE;\n",
              "      border: none;\n",
              "      border-radius: 50%;\n",
              "      cursor: pointer;\n",
              "      display: none;\n",
              "      fill: #1967D2;\n",
              "      height: 32px;\n",
              "      padding: 0 0 0 0;\n",
              "      width: 32px;\n",
              "    }\n",
              "\n",
              "    .colab-df-convert:hover {\n",
              "      background-color: #E2EBFA;\n",
              "      box-shadow: 0px 1px 2px rgba(60, 64, 67, 0.3), 0px 1px 3px 1px rgba(60, 64, 67, 0.15);\n",
              "      fill: #174EA6;\n",
              "    }\n",
              "\n",
              "    [theme=dark] .colab-df-convert {\n",
              "      background-color: #3B4455;\n",
              "      fill: #D2E3FC;\n",
              "    }\n",
              "\n",
              "    [theme=dark] .colab-df-convert:hover {\n",
              "      background-color: #434B5C;\n",
              "      box-shadow: 0px 1px 3px 1px rgba(0, 0, 0, 0.15);\n",
              "      filter: drop-shadow(0px 1px 2px rgba(0, 0, 0, 0.3));\n",
              "      fill: #FFFFFF;\n",
              "    }\n",
              "  </style>\n",
              "\n",
              "      <script>\n",
              "        const buttonEl =\n",
              "          document.querySelector('#df-48860a42-e43d-48eb-a0bf-2c2cb28747b2 button.colab-df-convert');\n",
              "        buttonEl.style.display =\n",
              "          google.colab.kernel.accessAllowed ? 'block' : 'none';\n",
              "\n",
              "        async function convertToInteractive(key) {\n",
              "          const element = document.querySelector('#df-48860a42-e43d-48eb-a0bf-2c2cb28747b2');\n",
              "          const dataTable =\n",
              "            await google.colab.kernel.invokeFunction('convertToInteractive',\n",
              "                                                     [key], {});\n",
              "          if (!dataTable) return;\n",
              "\n",
              "          const docLinkHtml = 'Like what you see? Visit the ' +\n",
              "            '<a target=\"_blank\" href=https://colab.research.google.com/notebooks/data_table.ipynb>data table notebook</a>'\n",
              "            + ' to learn more about interactive tables.';\n",
              "          element.innerHTML = '';\n",
              "          dataTable['output_type'] = 'display_data';\n",
              "          await google.colab.output.renderOutput(dataTable, element);\n",
              "          const docLink = document.createElement('div');\n",
              "          docLink.innerHTML = docLinkHtml;\n",
              "          element.appendChild(docLink);\n",
              "        }\n",
              "      </script>\n",
              "    </div>\n",
              "  </div>\n",
              "  "
            ]
          },
          "metadata": {},
          "execution_count": 27
        }
      ]
    },
    {
      "cell_type": "code",
      "execution_count": 28,
      "id": "8d1c350a",
      "metadata": {
        "id": "8d1c350a"
      },
      "outputs": [],
      "source": [
        "dff.drop(columns=['genres','overview','original_title','keywords','cast'], inplace=True)"
      ]
    },
    {
      "cell_type": "code",
      "execution_count": 29,
      "id": "fcbff2f1",
      "metadata": {
        "colab": {
          "base_uri": "https://localhost:8080/",
          "height": 206
        },
        "id": "fcbff2f1",
        "outputId": "81034cd7-d639-4103-cfee-babefa597bdd"
      },
      "outputs": [
        {
          "output_type": "execute_result",
          "data": {
            "text/plain": [
              "      id                        title  \\\n",
              "0    862                    Toy Story   \n",
              "1   8844                      Jumanji   \n",
              "2  15602             Grumpier Old Men   \n",
              "3  11862  Father of the Bride Part II   \n",
              "4    949                         Heat   \n",
              "\n",
              "                                                tags  \\\n",
              "0  Led by Woody, Andy's toys live happily in his ...   \n",
              "1  When siblings Judy and Peter discover an encha...   \n",
              "2  A family wedding reignites the ancient feud be...   \n",
              "3  Just when George Banks has recovered from his ...   \n",
              "4  Obsessive master thief, Neil McCauley leads a ...   \n",
              "\n",
              "                                            key_tags  \n",
              "0  Led by Woody, Andy's toys live happily in his ...  \n",
              "1  When siblings Judy and Peter discover an encha...  \n",
              "2  A family wedding reignites the ancient feud be...  \n",
              "3  Just when George Banks has recovered from his ...  \n",
              "4  Obsessive master thief, Neil McCauley leads a ...  "
            ],
            "text/html": [
              "\n",
              "  <div id=\"df-f3271a5a-e0a9-45e2-b39c-83eb84ed10ad\">\n",
              "    <div class=\"colab-df-container\">\n",
              "      <div>\n",
              "<style scoped>\n",
              "    .dataframe tbody tr th:only-of-type {\n",
              "        vertical-align: middle;\n",
              "    }\n",
              "\n",
              "    .dataframe tbody tr th {\n",
              "        vertical-align: top;\n",
              "    }\n",
              "\n",
              "    .dataframe thead th {\n",
              "        text-align: right;\n",
              "    }\n",
              "</style>\n",
              "<table border=\"1\" class=\"dataframe\">\n",
              "  <thead>\n",
              "    <tr style=\"text-align: right;\">\n",
              "      <th></th>\n",
              "      <th>id</th>\n",
              "      <th>title</th>\n",
              "      <th>tags</th>\n",
              "      <th>key_tags</th>\n",
              "    </tr>\n",
              "  </thead>\n",
              "  <tbody>\n",
              "    <tr>\n",
              "      <th>0</th>\n",
              "      <td>862</td>\n",
              "      <td>Toy Story</td>\n",
              "      <td>Led by Woody, Andy's toys live happily in his ...</td>\n",
              "      <td>Led by Woody, Andy's toys live happily in his ...</td>\n",
              "    </tr>\n",
              "    <tr>\n",
              "      <th>1</th>\n",
              "      <td>8844</td>\n",
              "      <td>Jumanji</td>\n",
              "      <td>When siblings Judy and Peter discover an encha...</td>\n",
              "      <td>When siblings Judy and Peter discover an encha...</td>\n",
              "    </tr>\n",
              "    <tr>\n",
              "      <th>2</th>\n",
              "      <td>15602</td>\n",
              "      <td>Grumpier Old Men</td>\n",
              "      <td>A family wedding reignites the ancient feud be...</td>\n",
              "      <td>A family wedding reignites the ancient feud be...</td>\n",
              "    </tr>\n",
              "    <tr>\n",
              "      <th>3</th>\n",
              "      <td>11862</td>\n",
              "      <td>Father of the Bride Part II</td>\n",
              "      <td>Just when George Banks has recovered from his ...</td>\n",
              "      <td>Just when George Banks has recovered from his ...</td>\n",
              "    </tr>\n",
              "    <tr>\n",
              "      <th>4</th>\n",
              "      <td>949</td>\n",
              "      <td>Heat</td>\n",
              "      <td>Obsessive master thief, Neil McCauley leads a ...</td>\n",
              "      <td>Obsessive master thief, Neil McCauley leads a ...</td>\n",
              "    </tr>\n",
              "  </tbody>\n",
              "</table>\n",
              "</div>\n",
              "      <button class=\"colab-df-convert\" onclick=\"convertToInteractive('df-f3271a5a-e0a9-45e2-b39c-83eb84ed10ad')\"\n",
              "              title=\"Convert this dataframe to an interactive table.\"\n",
              "              style=\"display:none;\">\n",
              "        \n",
              "  <svg xmlns=\"http://www.w3.org/2000/svg\" height=\"24px\"viewBox=\"0 0 24 24\"\n",
              "       width=\"24px\">\n",
              "    <path d=\"M0 0h24v24H0V0z\" fill=\"none\"/>\n",
              "    <path d=\"M18.56 5.44l.94 2.06.94-2.06 2.06-.94-2.06-.94-.94-2.06-.94 2.06-2.06.94zm-11 1L8.5 8.5l.94-2.06 2.06-.94-2.06-.94L8.5 2.5l-.94 2.06-2.06.94zm10 10l.94 2.06.94-2.06 2.06-.94-2.06-.94-.94-2.06-.94 2.06-2.06.94z\"/><path d=\"M17.41 7.96l-1.37-1.37c-.4-.4-.92-.59-1.43-.59-.52 0-1.04.2-1.43.59L10.3 9.45l-7.72 7.72c-.78.78-.78 2.05 0 2.83L4 21.41c.39.39.9.59 1.41.59.51 0 1.02-.2 1.41-.59l7.78-7.78 2.81-2.81c.8-.78.8-2.07 0-2.86zM5.41 20L4 18.59l7.72-7.72 1.47 1.35L5.41 20z\"/>\n",
              "  </svg>\n",
              "      </button>\n",
              "      \n",
              "  <style>\n",
              "    .colab-df-container {\n",
              "      display:flex;\n",
              "      flex-wrap:wrap;\n",
              "      gap: 12px;\n",
              "    }\n",
              "\n",
              "    .colab-df-convert {\n",
              "      background-color: #E8F0FE;\n",
              "      border: none;\n",
              "      border-radius: 50%;\n",
              "      cursor: pointer;\n",
              "      display: none;\n",
              "      fill: #1967D2;\n",
              "      height: 32px;\n",
              "      padding: 0 0 0 0;\n",
              "      width: 32px;\n",
              "    }\n",
              "\n",
              "    .colab-df-convert:hover {\n",
              "      background-color: #E2EBFA;\n",
              "      box-shadow: 0px 1px 2px rgba(60, 64, 67, 0.3), 0px 1px 3px 1px rgba(60, 64, 67, 0.15);\n",
              "      fill: #174EA6;\n",
              "    }\n",
              "\n",
              "    [theme=dark] .colab-df-convert {\n",
              "      background-color: #3B4455;\n",
              "      fill: #D2E3FC;\n",
              "    }\n",
              "\n",
              "    [theme=dark] .colab-df-convert:hover {\n",
              "      background-color: #434B5C;\n",
              "      box-shadow: 0px 1px 3px 1px rgba(0, 0, 0, 0.15);\n",
              "      filter: drop-shadow(0px 1px 2px rgba(0, 0, 0, 0.3));\n",
              "      fill: #FFFFFF;\n",
              "    }\n",
              "  </style>\n",
              "\n",
              "      <script>\n",
              "        const buttonEl =\n",
              "          document.querySelector('#df-f3271a5a-e0a9-45e2-b39c-83eb84ed10ad button.colab-df-convert');\n",
              "        buttonEl.style.display =\n",
              "          google.colab.kernel.accessAllowed ? 'block' : 'none';\n",
              "\n",
              "        async function convertToInteractive(key) {\n",
              "          const element = document.querySelector('#df-f3271a5a-e0a9-45e2-b39c-83eb84ed10ad');\n",
              "          const dataTable =\n",
              "            await google.colab.kernel.invokeFunction('convertToInteractive',\n",
              "                                                     [key], {});\n",
              "          if (!dataTable) return;\n",
              "\n",
              "          const docLinkHtml = 'Like what you see? Visit the ' +\n",
              "            '<a target=\"_blank\" href=https://colab.research.google.com/notebooks/data_table.ipynb>data table notebook</a>'\n",
              "            + ' to learn more about interactive tables.';\n",
              "          element.innerHTML = '';\n",
              "          dataTable['output_type'] = 'display_data';\n",
              "          await google.colab.output.renderOutput(dataTable, element);\n",
              "          const docLink = document.createElement('div');\n",
              "          docLink.innerHTML = docLinkHtml;\n",
              "          element.appendChild(docLink);\n",
              "        }\n",
              "      </script>\n",
              "    </div>\n",
              "  </div>\n",
              "  "
            ]
          },
          "metadata": {},
          "execution_count": 29
        }
      ],
      "source": [
        "dff.head()"
      ]
    },
    {
      "cell_type": "code",
      "execution_count": 30,
      "id": "00024f27",
      "metadata": {
        "id": "00024f27"
      },
      "outputs": [],
      "source": [
        "dff.drop(dff[dff['key_tags'].isnull()].index, inplace=True)"
      ]
    },
    {
      "cell_type": "code",
      "execution_count": 31,
      "id": "7b4a76a3",
      "metadata": {
        "id": "7b4a76a3"
      },
      "outputs": [],
      "source": [
        "dff.drop_duplicates(inplace=True)"
      ]
    },
    {
      "cell_type": "markdown",
      "source": [
        "**Converting Text to Numbers using TF-IDF**"
      ],
      "metadata": {
        "id": "dWcd8k2FpFk4"
      },
      "id": "dWcd8k2FpFk4"
    },
    {
      "cell_type": "code",
      "execution_count": 38,
      "id": "c726f481",
      "metadata": {
        "id": "c726f481"
      },
      "outputs": [],
      "source": []
    },
    {
      "cell_type": "code",
      "execution_count": 39,
      "id": "81c74f3d",
      "metadata": {
        "id": "81c74f3d"
      },
      "outputs": [],
      "source": [
        "from sklearn.feature_extraction.text import TfidfVectorizer\n",
        "\n",
        "tfidf = TfidfVectorizer(max_features=3000)\n",
        "\n",
        "transformed_data = tfidf.fit_transform(dff['key_tags'].values)\n",
        "transformed_dataframe = pd.DataFrame(transformed_data.toarray(), index=dff['key_tags'].index.tolist())\n"
      ]
    },
    {
      "cell_type": "code",
      "source": [
        "transformed_dataframe"
      ],
      "metadata": {
        "colab": {
          "base_uri": "https://localhost:8080/",
          "height": 423
        },
        "id": "j1AWVCOsojLj",
        "outputId": "b79b5708-9ff7-4e71-eb89-807f084656f9"
      },
      "id": "j1AWVCOsojLj",
      "execution_count": 42,
      "outputs": [
        {
          "output_type": "execute_result",
          "data": {
            "text/plain": [
              "      0     1     2     3     4     5     6     7     8     9     ...  2990  \\\n",
              "0      0.0   0.0   0.0   0.0   0.0   0.0   0.0   0.0   0.0   0.0  ...   0.0   \n",
              "1      0.0   0.0   0.0   0.0   0.0   0.0   0.0   0.0   0.0   0.0  ...   0.0   \n",
              "2      0.0   0.0   0.0   0.0   0.0   0.0   0.0   0.0   0.0   0.0  ...   0.0   \n",
              "3      0.0   0.0   0.0   0.0   0.0   0.0   0.0   0.0   0.0   0.0  ...   0.0   \n",
              "4      0.0   0.0   0.0   0.0   0.0   0.0   0.0   0.0   0.0   0.0  ...   0.0   \n",
              "...    ...   ...   ...   ...   ...   ...   ...   ...   ...   ...  ...   ...   \n",
              "9292   0.0   0.0   0.0   0.0   0.0   0.0   0.0   0.0   0.0   0.0  ...   0.0   \n",
              "9293   0.0   0.0   0.0   0.0   0.0   0.0   0.0   0.0   0.0   0.0  ...   0.0   \n",
              "9294   0.0   0.0   0.0   0.0   0.0   0.0   0.0   0.0   0.0   0.0  ...   0.0   \n",
              "9295   0.0   0.0   0.0   0.0   0.0   0.0   0.0   0.0   0.0   0.0  ...   0.0   \n",
              "9296   0.0   0.0   0.0   0.0   0.0   0.0   0.0   0.0   0.0   0.0  ...   0.0   \n",
              "\n",
              "      2991  2992  2993  2994  2995  2996  2997  2998  2999  \n",
              "0      0.0   0.0   0.0   0.0   0.0   0.0   0.0   0.0   0.0  \n",
              "1      0.0   0.0   0.0   0.0   0.0   0.0   0.0   0.0   0.0  \n",
              "2      0.0   0.0   0.0   0.0   0.0   0.0   0.0   0.0   0.0  \n",
              "3      0.0   0.0   0.0   0.0   0.0   0.0   0.0   0.0   0.0  \n",
              "4      0.0   0.0   0.0   0.0   0.0   0.0   0.0   0.0   0.0  \n",
              "...    ...   ...   ...   ...   ...   ...   ...   ...   ...  \n",
              "9292   0.0   0.0   0.0   0.0   0.0   0.0   0.0   0.0   0.0  \n",
              "9293   0.0   0.0   0.0   0.0   0.0   0.0   0.0   0.0   0.0  \n",
              "9294   0.0   0.0   0.0   0.0   0.0   0.0   0.0   0.0   0.0  \n",
              "9295   0.0   0.0   0.0   0.0   0.0   0.0   0.0   0.0   0.0  \n",
              "9296   0.0   0.0   0.0   0.0   0.0   0.0   0.0   0.0   0.0  \n",
              "\n",
              "[9106 rows x 3000 columns]"
            ],
            "text/html": [
              "\n",
              "  <div id=\"df-463e7c6f-c581-4d2a-9e82-a66f83c39bc9\">\n",
              "    <div class=\"colab-df-container\">\n",
              "      <div>\n",
              "<style scoped>\n",
              "    .dataframe tbody tr th:only-of-type {\n",
              "        vertical-align: middle;\n",
              "    }\n",
              "\n",
              "    .dataframe tbody tr th {\n",
              "        vertical-align: top;\n",
              "    }\n",
              "\n",
              "    .dataframe thead th {\n",
              "        text-align: right;\n",
              "    }\n",
              "</style>\n",
              "<table border=\"1\" class=\"dataframe\">\n",
              "  <thead>\n",
              "    <tr style=\"text-align: right;\">\n",
              "      <th></th>\n",
              "      <th>0</th>\n",
              "      <th>1</th>\n",
              "      <th>2</th>\n",
              "      <th>3</th>\n",
              "      <th>4</th>\n",
              "      <th>5</th>\n",
              "      <th>6</th>\n",
              "      <th>7</th>\n",
              "      <th>8</th>\n",
              "      <th>9</th>\n",
              "      <th>...</th>\n",
              "      <th>2990</th>\n",
              "      <th>2991</th>\n",
              "      <th>2992</th>\n",
              "      <th>2993</th>\n",
              "      <th>2994</th>\n",
              "      <th>2995</th>\n",
              "      <th>2996</th>\n",
              "      <th>2997</th>\n",
              "      <th>2998</th>\n",
              "      <th>2999</th>\n",
              "    </tr>\n",
              "  </thead>\n",
              "  <tbody>\n",
              "    <tr>\n",
              "      <th>0</th>\n",
              "      <td>0.0</td>\n",
              "      <td>0.0</td>\n",
              "      <td>0.0</td>\n",
              "      <td>0.0</td>\n",
              "      <td>0.0</td>\n",
              "      <td>0.0</td>\n",
              "      <td>0.0</td>\n",
              "      <td>0.0</td>\n",
              "      <td>0.0</td>\n",
              "      <td>0.0</td>\n",
              "      <td>...</td>\n",
              "      <td>0.0</td>\n",
              "      <td>0.0</td>\n",
              "      <td>0.0</td>\n",
              "      <td>0.0</td>\n",
              "      <td>0.0</td>\n",
              "      <td>0.0</td>\n",
              "      <td>0.0</td>\n",
              "      <td>0.0</td>\n",
              "      <td>0.0</td>\n",
              "      <td>0.0</td>\n",
              "    </tr>\n",
              "    <tr>\n",
              "      <th>1</th>\n",
              "      <td>0.0</td>\n",
              "      <td>0.0</td>\n",
              "      <td>0.0</td>\n",
              "      <td>0.0</td>\n",
              "      <td>0.0</td>\n",
              "      <td>0.0</td>\n",
              "      <td>0.0</td>\n",
              "      <td>0.0</td>\n",
              "      <td>0.0</td>\n",
              "      <td>0.0</td>\n",
              "      <td>...</td>\n",
              "      <td>0.0</td>\n",
              "      <td>0.0</td>\n",
              "      <td>0.0</td>\n",
              "      <td>0.0</td>\n",
              "      <td>0.0</td>\n",
              "      <td>0.0</td>\n",
              "      <td>0.0</td>\n",
              "      <td>0.0</td>\n",
              "      <td>0.0</td>\n",
              "      <td>0.0</td>\n",
              "    </tr>\n",
              "    <tr>\n",
              "      <th>2</th>\n",
              "      <td>0.0</td>\n",
              "      <td>0.0</td>\n",
              "      <td>0.0</td>\n",
              "      <td>0.0</td>\n",
              "      <td>0.0</td>\n",
              "      <td>0.0</td>\n",
              "      <td>0.0</td>\n",
              "      <td>0.0</td>\n",
              "      <td>0.0</td>\n",
              "      <td>0.0</td>\n",
              "      <td>...</td>\n",
              "      <td>0.0</td>\n",
              "      <td>0.0</td>\n",
              "      <td>0.0</td>\n",
              "      <td>0.0</td>\n",
              "      <td>0.0</td>\n",
              "      <td>0.0</td>\n",
              "      <td>0.0</td>\n",
              "      <td>0.0</td>\n",
              "      <td>0.0</td>\n",
              "      <td>0.0</td>\n",
              "    </tr>\n",
              "    <tr>\n",
              "      <th>3</th>\n",
              "      <td>0.0</td>\n",
              "      <td>0.0</td>\n",
              "      <td>0.0</td>\n",
              "      <td>0.0</td>\n",
              "      <td>0.0</td>\n",
              "      <td>0.0</td>\n",
              "      <td>0.0</td>\n",
              "      <td>0.0</td>\n",
              "      <td>0.0</td>\n",
              "      <td>0.0</td>\n",
              "      <td>...</td>\n",
              "      <td>0.0</td>\n",
              "      <td>0.0</td>\n",
              "      <td>0.0</td>\n",
              "      <td>0.0</td>\n",
              "      <td>0.0</td>\n",
              "      <td>0.0</td>\n",
              "      <td>0.0</td>\n",
              "      <td>0.0</td>\n",
              "      <td>0.0</td>\n",
              "      <td>0.0</td>\n",
              "    </tr>\n",
              "    <tr>\n",
              "      <th>4</th>\n",
              "      <td>0.0</td>\n",
              "      <td>0.0</td>\n",
              "      <td>0.0</td>\n",
              "      <td>0.0</td>\n",
              "      <td>0.0</td>\n",
              "      <td>0.0</td>\n",
              "      <td>0.0</td>\n",
              "      <td>0.0</td>\n",
              "      <td>0.0</td>\n",
              "      <td>0.0</td>\n",
              "      <td>...</td>\n",
              "      <td>0.0</td>\n",
              "      <td>0.0</td>\n",
              "      <td>0.0</td>\n",
              "      <td>0.0</td>\n",
              "      <td>0.0</td>\n",
              "      <td>0.0</td>\n",
              "      <td>0.0</td>\n",
              "      <td>0.0</td>\n",
              "      <td>0.0</td>\n",
              "      <td>0.0</td>\n",
              "    </tr>\n",
              "    <tr>\n",
              "      <th>...</th>\n",
              "      <td>...</td>\n",
              "      <td>...</td>\n",
              "      <td>...</td>\n",
              "      <td>...</td>\n",
              "      <td>...</td>\n",
              "      <td>...</td>\n",
              "      <td>...</td>\n",
              "      <td>...</td>\n",
              "      <td>...</td>\n",
              "      <td>...</td>\n",
              "      <td>...</td>\n",
              "      <td>...</td>\n",
              "      <td>...</td>\n",
              "      <td>...</td>\n",
              "      <td>...</td>\n",
              "      <td>...</td>\n",
              "      <td>...</td>\n",
              "      <td>...</td>\n",
              "      <td>...</td>\n",
              "      <td>...</td>\n",
              "      <td>...</td>\n",
              "    </tr>\n",
              "    <tr>\n",
              "      <th>9292</th>\n",
              "      <td>0.0</td>\n",
              "      <td>0.0</td>\n",
              "      <td>0.0</td>\n",
              "      <td>0.0</td>\n",
              "      <td>0.0</td>\n",
              "      <td>0.0</td>\n",
              "      <td>0.0</td>\n",
              "      <td>0.0</td>\n",
              "      <td>0.0</td>\n",
              "      <td>0.0</td>\n",
              "      <td>...</td>\n",
              "      <td>0.0</td>\n",
              "      <td>0.0</td>\n",
              "      <td>0.0</td>\n",
              "      <td>0.0</td>\n",
              "      <td>0.0</td>\n",
              "      <td>0.0</td>\n",
              "      <td>0.0</td>\n",
              "      <td>0.0</td>\n",
              "      <td>0.0</td>\n",
              "      <td>0.0</td>\n",
              "    </tr>\n",
              "    <tr>\n",
              "      <th>9293</th>\n",
              "      <td>0.0</td>\n",
              "      <td>0.0</td>\n",
              "      <td>0.0</td>\n",
              "      <td>0.0</td>\n",
              "      <td>0.0</td>\n",
              "      <td>0.0</td>\n",
              "      <td>0.0</td>\n",
              "      <td>0.0</td>\n",
              "      <td>0.0</td>\n",
              "      <td>0.0</td>\n",
              "      <td>...</td>\n",
              "      <td>0.0</td>\n",
              "      <td>0.0</td>\n",
              "      <td>0.0</td>\n",
              "      <td>0.0</td>\n",
              "      <td>0.0</td>\n",
              "      <td>0.0</td>\n",
              "      <td>0.0</td>\n",
              "      <td>0.0</td>\n",
              "      <td>0.0</td>\n",
              "      <td>0.0</td>\n",
              "    </tr>\n",
              "    <tr>\n",
              "      <th>9294</th>\n",
              "      <td>0.0</td>\n",
              "      <td>0.0</td>\n",
              "      <td>0.0</td>\n",
              "      <td>0.0</td>\n",
              "      <td>0.0</td>\n",
              "      <td>0.0</td>\n",
              "      <td>0.0</td>\n",
              "      <td>0.0</td>\n",
              "      <td>0.0</td>\n",
              "      <td>0.0</td>\n",
              "      <td>...</td>\n",
              "      <td>0.0</td>\n",
              "      <td>0.0</td>\n",
              "      <td>0.0</td>\n",
              "      <td>0.0</td>\n",
              "      <td>0.0</td>\n",
              "      <td>0.0</td>\n",
              "      <td>0.0</td>\n",
              "      <td>0.0</td>\n",
              "      <td>0.0</td>\n",
              "      <td>0.0</td>\n",
              "    </tr>\n",
              "    <tr>\n",
              "      <th>9295</th>\n",
              "      <td>0.0</td>\n",
              "      <td>0.0</td>\n",
              "      <td>0.0</td>\n",
              "      <td>0.0</td>\n",
              "      <td>0.0</td>\n",
              "      <td>0.0</td>\n",
              "      <td>0.0</td>\n",
              "      <td>0.0</td>\n",
              "      <td>0.0</td>\n",
              "      <td>0.0</td>\n",
              "      <td>...</td>\n",
              "      <td>0.0</td>\n",
              "      <td>0.0</td>\n",
              "      <td>0.0</td>\n",
              "      <td>0.0</td>\n",
              "      <td>0.0</td>\n",
              "      <td>0.0</td>\n",
              "      <td>0.0</td>\n",
              "      <td>0.0</td>\n",
              "      <td>0.0</td>\n",
              "      <td>0.0</td>\n",
              "    </tr>\n",
              "    <tr>\n",
              "      <th>9296</th>\n",
              "      <td>0.0</td>\n",
              "      <td>0.0</td>\n",
              "      <td>0.0</td>\n",
              "      <td>0.0</td>\n",
              "      <td>0.0</td>\n",
              "      <td>0.0</td>\n",
              "      <td>0.0</td>\n",
              "      <td>0.0</td>\n",
              "      <td>0.0</td>\n",
              "      <td>0.0</td>\n",
              "      <td>...</td>\n",
              "      <td>0.0</td>\n",
              "      <td>0.0</td>\n",
              "      <td>0.0</td>\n",
              "      <td>0.0</td>\n",
              "      <td>0.0</td>\n",
              "      <td>0.0</td>\n",
              "      <td>0.0</td>\n",
              "      <td>0.0</td>\n",
              "      <td>0.0</td>\n",
              "      <td>0.0</td>\n",
              "    </tr>\n",
              "  </tbody>\n",
              "</table>\n",
              "<p>9106 rows × 3000 columns</p>\n",
              "</div>\n",
              "      <button class=\"colab-df-convert\" onclick=\"convertToInteractive('df-463e7c6f-c581-4d2a-9e82-a66f83c39bc9')\"\n",
              "              title=\"Convert this dataframe to an interactive table.\"\n",
              "              style=\"display:none;\">\n",
              "        \n",
              "  <svg xmlns=\"http://www.w3.org/2000/svg\" height=\"24px\"viewBox=\"0 0 24 24\"\n",
              "       width=\"24px\">\n",
              "    <path d=\"M0 0h24v24H0V0z\" fill=\"none\"/>\n",
              "    <path d=\"M18.56 5.44l.94 2.06.94-2.06 2.06-.94-2.06-.94-.94-2.06-.94 2.06-2.06.94zm-11 1L8.5 8.5l.94-2.06 2.06-.94-2.06-.94L8.5 2.5l-.94 2.06-2.06.94zm10 10l.94 2.06.94-2.06 2.06-.94-2.06-.94-.94-2.06-.94 2.06-2.06.94z\"/><path d=\"M17.41 7.96l-1.37-1.37c-.4-.4-.92-.59-1.43-.59-.52 0-1.04.2-1.43.59L10.3 9.45l-7.72 7.72c-.78.78-.78 2.05 0 2.83L4 21.41c.39.39.9.59 1.41.59.51 0 1.02-.2 1.41-.59l7.78-7.78 2.81-2.81c.8-.78.8-2.07 0-2.86zM5.41 20L4 18.59l7.72-7.72 1.47 1.35L5.41 20z\"/>\n",
              "  </svg>\n",
              "      </button>\n",
              "      \n",
              "  <style>\n",
              "    .colab-df-container {\n",
              "      display:flex;\n",
              "      flex-wrap:wrap;\n",
              "      gap: 12px;\n",
              "    }\n",
              "\n",
              "    .colab-df-convert {\n",
              "      background-color: #E8F0FE;\n",
              "      border: none;\n",
              "      border-radius: 50%;\n",
              "      cursor: pointer;\n",
              "      display: none;\n",
              "      fill: #1967D2;\n",
              "      height: 32px;\n",
              "      padding: 0 0 0 0;\n",
              "      width: 32px;\n",
              "    }\n",
              "\n",
              "    .colab-df-convert:hover {\n",
              "      background-color: #E2EBFA;\n",
              "      box-shadow: 0px 1px 2px rgba(60, 64, 67, 0.3), 0px 1px 3px 1px rgba(60, 64, 67, 0.15);\n",
              "      fill: #174EA6;\n",
              "    }\n",
              "\n",
              "    [theme=dark] .colab-df-convert {\n",
              "      background-color: #3B4455;\n",
              "      fill: #D2E3FC;\n",
              "    }\n",
              "\n",
              "    [theme=dark] .colab-df-convert:hover {\n",
              "      background-color: #434B5C;\n",
              "      box-shadow: 0px 1px 3px 1px rgba(0, 0, 0, 0.15);\n",
              "      filter: drop-shadow(0px 1px 2px rgba(0, 0, 0, 0.3));\n",
              "      fill: #FFFFFF;\n",
              "    }\n",
              "  </style>\n",
              "\n",
              "      <script>\n",
              "        const buttonEl =\n",
              "          document.querySelector('#df-463e7c6f-c581-4d2a-9e82-a66f83c39bc9 button.colab-df-convert');\n",
              "        buttonEl.style.display =\n",
              "          google.colab.kernel.accessAllowed ? 'block' : 'none';\n",
              "\n",
              "        async function convertToInteractive(key) {\n",
              "          const element = document.querySelector('#df-463e7c6f-c581-4d2a-9e82-a66f83c39bc9');\n",
              "          const dataTable =\n",
              "            await google.colab.kernel.invokeFunction('convertToInteractive',\n",
              "                                                     [key], {});\n",
              "          if (!dataTable) return;\n",
              "\n",
              "          const docLinkHtml = 'Like what you see? Visit the ' +\n",
              "            '<a target=\"_blank\" href=https://colab.research.google.com/notebooks/data_table.ipynb>data table notebook</a>'\n",
              "            + ' to learn more about interactive tables.';\n",
              "          element.innerHTML = '';\n",
              "          dataTable['output_type'] = 'display_data';\n",
              "          await google.colab.output.renderOutput(dataTable, element);\n",
              "          const docLink = document.createElement('div');\n",
              "          docLink.innerHTML = docLinkHtml;\n",
              "          element.appendChild(docLink);\n",
              "        }\n",
              "      </script>\n",
              "    </div>\n",
              "  </div>\n",
              "  "
            ]
          },
          "metadata": {},
          "execution_count": 42
        }
      ]
    },
    {
      "cell_type": "markdown",
      "source": [
        "Explored TruncatedSVD which is also a dimensionality reduction technique. This Algorithm can better handle outliers and non-transformed data compared  other dimensionality reduction techniques like PCA"
      ],
      "metadata": {
        "id": "IbvP9sustxkg"
      },
      "id": "IbvP9sustxkg"
    },
    {
      "cell_type": "code",
      "execution_count": 43,
      "id": "901137d7",
      "metadata": {
        "id": "901137d7"
      },
      "outputs": [],
      "source": [
        "\n",
        "from sklearn.decomposition import TruncatedSVD\n",
        "\n",
        "svd = TruncatedSVD(n_components=3000)\n",
        "\n",
        "reduced_data = svd.fit_transform(transformed_dataframe)\n",
        "\n"
      ]
    },
    {
      "cell_type": "code",
      "execution_count": 44,
      "id": "1a3ec131",
      "metadata": {
        "colab": {
          "base_uri": "https://localhost:8080/"
        },
        "id": "1a3ec131",
        "outputId": "3a0c2bb0-2f2e-4af1-dce0-abb57b01cd19"
      },
      "outputs": [
        {
          "output_type": "execute_result",
          "data": {
            "text/plain": [
              "array([0.00550886, 0.01399735, 0.02099312, ..., 0.99999893, 1.        ,\n",
              "       1.        ])"
            ]
          },
          "metadata": {},
          "execution_count": 44
        }
      ],
      "source": [
        "svd.explained_variance_ratio_.cumsum()"
      ]
    },
    {
      "cell_type": "code",
      "execution_count": 45,
      "id": "af45aff1",
      "metadata": {
        "id": "af45aff1"
      },
      "outputs": [],
      "source": [
        "from sklearn.metrics.pairwise import cosine_similarity\n",
        "similarity = cosine_similarity(reduced_data)\n"
      ]
    },
    {
      "cell_type": "markdown",
      "source": [
        "Function to recommend movies to a user based on the movie the user has watched"
      ],
      "metadata": {
        "id": "IFiySrZruHH6"
      },
      "id": "IFiySrZruHH6"
    },
    {
      "cell_type": "code",
      "execution_count": 46,
      "id": "eb64867f",
      "metadata": {
        "id": "eb64867f"
      },
      "outputs": [],
      "source": [
        "def recommend_movie(title):\n",
        "    movie_id = dff[dff['title']==title].index[0]\n",
        "    distances = similarity[movie_id]\n",
        "    movie_list = sorted(list(enumerate(distances)), reverse=True, key=lambda x:x[1])[1:5]\n",
        "    \n",
        "    for i in movie_list:\n",
        "        print(dff.iloc[i[0]].title)"
      ]
    },
    {
      "cell_type": "code",
      "execution_count": 47,
      "id": "fabd6f1a",
      "metadata": {
        "colab": {
          "base_uri": "https://localhost:8080/"
        },
        "id": "fabd6f1a",
        "outputId": "0c24605b-45eb-4f09-ee0a-df61d6a65b38"
      },
      "outputs": [
        {
          "output_type": "stream",
          "name": "stdout",
          "text": [
            "The Matrix Revolutions\n",
            "The Matrix Revisited\n",
            "The Matrix Reloaded\n",
            "The Animatrix\n"
          ]
        }
      ],
      "source": [
        "recommend_movie('The Matrix')\n"
      ]
    },
    {
      "cell_type": "markdown",
      "source": [
        "### **Collaborative Filtering**"
      ],
      "metadata": {
        "id": "KqXBwO14RTus"
      },
      "id": "KqXBwO14RTus"
    },
    {
      "cell_type": "code",
      "source": [
        "!pip install surprise"
      ],
      "metadata": {
        "colab": {
          "base_uri": "https://localhost:8080/"
        },
        "id": "-Ojzo0WFPkk9",
        "outputId": "69ca4bd7-246a-43ce-e128-b336fcea4a08"
      },
      "id": "-Ojzo0WFPkk9",
      "execution_count": 49,
      "outputs": [
        {
          "output_type": "stream",
          "name": "stdout",
          "text": [
            "Looking in indexes: https://pypi.org/simple, https://us-python.pkg.dev/colab-wheels/public/simple/\n",
            "Collecting surprise\n",
            "  Downloading surprise-0.1-py2.py3-none-any.whl (1.8 kB)\n",
            "Collecting scikit-surprise\n",
            "  Downloading scikit-surprise-1.1.3.tar.gz (771 kB)\n",
            "\u001b[2K     \u001b[90m━━━━━━━━━━━━━━━━━━━━━━━━━━━━━━━━━━━━━━\u001b[0m \u001b[32m772.0/772.0 kB\u001b[0m \u001b[31m24.2 MB/s\u001b[0m eta \u001b[36m0:00:00\u001b[0m\n",
            "\u001b[?25h  Preparing metadata (setup.py) ... \u001b[?25l\u001b[?25hdone\n",
            "Requirement already satisfied: joblib>=1.0.0 in /usr/local/lib/python3.10/dist-packages (from scikit-surprise->surprise) (1.2.0)\n",
            "Requirement already satisfied: numpy>=1.17.3 in /usr/local/lib/python3.10/dist-packages (from scikit-surprise->surprise) (1.22.4)\n",
            "Requirement already satisfied: scipy>=1.3.2 in /usr/local/lib/python3.10/dist-packages (from scikit-surprise->surprise) (1.10.1)\n",
            "Building wheels for collected packages: scikit-surprise\n",
            "  Building wheel for scikit-surprise (setup.py) ... \u001b[?25l\u001b[?25hdone\n",
            "  Created wheel for scikit-surprise: filename=scikit_surprise-1.1.3-cp310-cp310-linux_x86_64.whl size=3095460 sha256=1eaecf867cca6ed8b713b7423c64b8ac692490e340cf8e89e40e7713ecf70608\n",
            "  Stored in directory: /root/.cache/pip/wheels/a5/ca/a8/4e28def53797fdc4363ca4af740db15a9c2f1595ebc51fb445\n",
            "Successfully built scikit-surprise\n",
            "Installing collected packages: scikit-surprise, surprise\n",
            "Successfully installed scikit-surprise-1.1.3 surprise-0.1\n"
          ]
        }
      ]
    },
    {
      "cell_type": "code",
      "source": [
        "from surprise import Dataset, Reader\n",
        "\n",
        "from surprise.prediction_algorithms.matrix_factorization import SVD\n",
        "\n",
        "from surprise import accuracy"
      ],
      "metadata": {
        "id": "8AeAkR7tPJwI"
      },
      "id": "8AeAkR7tPJwI",
      "execution_count": 50,
      "outputs": []
    },
    {
      "cell_type": "code",
      "source": [],
      "metadata": {
        "id": "BEgfuvRvRQPX"
      },
      "id": "BEgfuvRvRQPX",
      "execution_count": 7,
      "outputs": []
    },
    {
      "cell_type": "code",
      "source": [
        "import pandas as pd\n",
        "ratings_data = pd.read_csv(\"ratings_small.csv\")\n",
        "\n",
        "movie_metadata = pd.read_csv(\"movies_metadata.csv\")\n",
        "\n",
        "ratings_data.head()"
      ],
      "metadata": {
        "colab": {
          "base_uri": "https://localhost:8080/",
          "height": 241
        },
        "id": "BOXqEYHlPJym",
        "outputId": "6652e132-7542-49b3-e634-fcc3fca6c67c"
      },
      "id": "BOXqEYHlPJym",
      "execution_count": 52,
      "outputs": [
        {
          "output_type": "stream",
          "name": "stderr",
          "text": [
            "<ipython-input-52-3f249cdc73ca>:4: DtypeWarning: Columns (10) have mixed types. Specify dtype option on import or set low_memory=False.\n",
            "  movie_metadata = pd.read_csv(\"movies_metadata.csv\")\n"
          ]
        },
        {
          "output_type": "execute_result",
          "data": {
            "text/plain": [
              "   userId  movieId  rating   timestamp\n",
              "0       1       31     2.5  1260759144\n",
              "1       1     1029     3.0  1260759179\n",
              "2       1     1061     3.0  1260759182\n",
              "3       1     1129     2.0  1260759185\n",
              "4       1     1172     4.0  1260759205"
            ],
            "text/html": [
              "\n",
              "  <div id=\"df-e9956ddd-f4f7-4c02-ad4d-c01998e702ee\">\n",
              "    <div class=\"colab-df-container\">\n",
              "      <div>\n",
              "<style scoped>\n",
              "    .dataframe tbody tr th:only-of-type {\n",
              "        vertical-align: middle;\n",
              "    }\n",
              "\n",
              "    .dataframe tbody tr th {\n",
              "        vertical-align: top;\n",
              "    }\n",
              "\n",
              "    .dataframe thead th {\n",
              "        text-align: right;\n",
              "    }\n",
              "</style>\n",
              "<table border=\"1\" class=\"dataframe\">\n",
              "  <thead>\n",
              "    <tr style=\"text-align: right;\">\n",
              "      <th></th>\n",
              "      <th>userId</th>\n",
              "      <th>movieId</th>\n",
              "      <th>rating</th>\n",
              "      <th>timestamp</th>\n",
              "    </tr>\n",
              "  </thead>\n",
              "  <tbody>\n",
              "    <tr>\n",
              "      <th>0</th>\n",
              "      <td>1</td>\n",
              "      <td>31</td>\n",
              "      <td>2.5</td>\n",
              "      <td>1260759144</td>\n",
              "    </tr>\n",
              "    <tr>\n",
              "      <th>1</th>\n",
              "      <td>1</td>\n",
              "      <td>1029</td>\n",
              "      <td>3.0</td>\n",
              "      <td>1260759179</td>\n",
              "    </tr>\n",
              "    <tr>\n",
              "      <th>2</th>\n",
              "      <td>1</td>\n",
              "      <td>1061</td>\n",
              "      <td>3.0</td>\n",
              "      <td>1260759182</td>\n",
              "    </tr>\n",
              "    <tr>\n",
              "      <th>3</th>\n",
              "      <td>1</td>\n",
              "      <td>1129</td>\n",
              "      <td>2.0</td>\n",
              "      <td>1260759185</td>\n",
              "    </tr>\n",
              "    <tr>\n",
              "      <th>4</th>\n",
              "      <td>1</td>\n",
              "      <td>1172</td>\n",
              "      <td>4.0</td>\n",
              "      <td>1260759205</td>\n",
              "    </tr>\n",
              "  </tbody>\n",
              "</table>\n",
              "</div>\n",
              "      <button class=\"colab-df-convert\" onclick=\"convertToInteractive('df-e9956ddd-f4f7-4c02-ad4d-c01998e702ee')\"\n",
              "              title=\"Convert this dataframe to an interactive table.\"\n",
              "              style=\"display:none;\">\n",
              "        \n",
              "  <svg xmlns=\"http://www.w3.org/2000/svg\" height=\"24px\"viewBox=\"0 0 24 24\"\n",
              "       width=\"24px\">\n",
              "    <path d=\"M0 0h24v24H0V0z\" fill=\"none\"/>\n",
              "    <path d=\"M18.56 5.44l.94 2.06.94-2.06 2.06-.94-2.06-.94-.94-2.06-.94 2.06-2.06.94zm-11 1L8.5 8.5l.94-2.06 2.06-.94-2.06-.94L8.5 2.5l-.94 2.06-2.06.94zm10 10l.94 2.06.94-2.06 2.06-.94-2.06-.94-.94-2.06-.94 2.06-2.06.94z\"/><path d=\"M17.41 7.96l-1.37-1.37c-.4-.4-.92-.59-1.43-.59-.52 0-1.04.2-1.43.59L10.3 9.45l-7.72 7.72c-.78.78-.78 2.05 0 2.83L4 21.41c.39.39.9.59 1.41.59.51 0 1.02-.2 1.41-.59l7.78-7.78 2.81-2.81c.8-.78.8-2.07 0-2.86zM5.41 20L4 18.59l7.72-7.72 1.47 1.35L5.41 20z\"/>\n",
              "  </svg>\n",
              "      </button>\n",
              "      \n",
              "  <style>\n",
              "    .colab-df-container {\n",
              "      display:flex;\n",
              "      flex-wrap:wrap;\n",
              "      gap: 12px;\n",
              "    }\n",
              "\n",
              "    .colab-df-convert {\n",
              "      background-color: #E8F0FE;\n",
              "      border: none;\n",
              "      border-radius: 50%;\n",
              "      cursor: pointer;\n",
              "      display: none;\n",
              "      fill: #1967D2;\n",
              "      height: 32px;\n",
              "      padding: 0 0 0 0;\n",
              "      width: 32px;\n",
              "    }\n",
              "\n",
              "    .colab-df-convert:hover {\n",
              "      background-color: #E2EBFA;\n",
              "      box-shadow: 0px 1px 2px rgba(60, 64, 67, 0.3), 0px 1px 3px 1px rgba(60, 64, 67, 0.15);\n",
              "      fill: #174EA6;\n",
              "    }\n",
              "\n",
              "    [theme=dark] .colab-df-convert {\n",
              "      background-color: #3B4455;\n",
              "      fill: #D2E3FC;\n",
              "    }\n",
              "\n",
              "    [theme=dark] .colab-df-convert:hover {\n",
              "      background-color: #434B5C;\n",
              "      box-shadow: 0px 1px 3px 1px rgba(0, 0, 0, 0.15);\n",
              "      filter: drop-shadow(0px 1px 2px rgba(0, 0, 0, 0.3));\n",
              "      fill: #FFFFFF;\n",
              "    }\n",
              "  </style>\n",
              "\n",
              "      <script>\n",
              "        const buttonEl =\n",
              "          document.querySelector('#df-e9956ddd-f4f7-4c02-ad4d-c01998e702ee button.colab-df-convert');\n",
              "        buttonEl.style.display =\n",
              "          google.colab.kernel.accessAllowed ? 'block' : 'none';\n",
              "\n",
              "        async function convertToInteractive(key) {\n",
              "          const element = document.querySelector('#df-e9956ddd-f4f7-4c02-ad4d-c01998e702ee');\n",
              "          const dataTable =\n",
              "            await google.colab.kernel.invokeFunction('convertToInteractive',\n",
              "                                                     [key], {});\n",
              "          if (!dataTable) return;\n",
              "\n",
              "          const docLinkHtml = 'Like what you see? Visit the ' +\n",
              "            '<a target=\"_blank\" href=https://colab.research.google.com/notebooks/data_table.ipynb>data table notebook</a>'\n",
              "            + ' to learn more about interactive tables.';\n",
              "          element.innerHTML = '';\n",
              "          dataTable['output_type'] = 'display_data';\n",
              "          await google.colab.output.renderOutput(dataTable, element);\n",
              "          const docLink = document.createElement('div');\n",
              "          docLink.innerHTML = docLinkHtml;\n",
              "          element.appendChild(docLink);\n",
              "        }\n",
              "      </script>\n",
              "    </div>\n",
              "  </div>\n",
              "  "
            ]
          },
          "metadata": {},
          "execution_count": 52
        }
      ]
    },
    {
      "cell_type": "code",
      "source": [
        "movie_metadata = movie_metadata[movie_metadata['vote_count']>50][['id','title']]\n",
        "\n",
        "movie_ids = [int(i) for i in movie_metadata['id'].values]\n",
        "\n",
        "ratings_data = ratings_data[ratings_data['movieId'].isin(movie_ids)]\n",
        "\n",
        "ratings_data.reset_index(inplace=True, drop=True)\n"
      ],
      "metadata": {
        "id": "SdlsBsrYPJ14"
      },
      "id": "SdlsBsrYPJ14",
      "execution_count": 53,
      "outputs": []
    },
    {
      "cell_type": "code",
      "source": [
        "\n",
        "reader = Reader(line_format='user item rating', sep=',', rating_scale=(0,5), skip_lines=1)\n",
        "\n",
        "df = Dataset.load_from_df(ratings_data[['userId','movieId','rating']], reader=reader)\n",
        "\n",
        "training_data = df.build_full_trainset()\n",
        "svd = SVD()\n",
        "svd.fit(training_data)\n"
      ],
      "metadata": {
        "colab": {
          "base_uri": "https://localhost:8080/"
        },
        "id": "nHgl3SAZPKDc",
        "outputId": "e7105290-dd8d-4f78-b9a3-46c179c01fc1"
      },
      "id": "nHgl3SAZPKDc",
      "execution_count": 55,
      "outputs": [
        {
          "output_type": "execute_result",
          "data": {
            "text/plain": [
              "<surprise.prediction_algorithms.matrix_factorization.SVD at 0x7f1b34b34d00>"
            ]
          },
          "metadata": {},
          "execution_count": 55
        }
      ]
    },
    {
      "cell_type": "code",
      "source": [
        "svd.predict(uid=3,iid=2959,r_ui=5.0)"
      ],
      "metadata": {
        "colab": {
          "base_uri": "https://localhost:8080/"
        },
        "id": "pLS2IRMzQvNK",
        "outputId": "70c0b9ca-b0cf-48b0-f363-d87836d314bd"
      },
      "id": "pLS2IRMzQvNK",
      "execution_count": 56,
      "outputs": [
        {
          "output_type": "execute_result",
          "data": {
            "text/plain": [
              "Prediction(uid=3, iid=2959, r_ui=5.0, est=4.197563594322671, details={'was_impossible': False})"
            ]
          },
          "metadata": {},
          "execution_count": 56
        }
      ]
    },
    {
      "cell_type": "code",
      "source": [
        "def recommend_movie(data, movie_metadata, user_id, number_of_movies, algorithm):\n",
        "    recommended_list = []\n",
        "    interactions_matrix = data.pivot(index='userId', columns='movieId', values='rating')\n",
        "    non_interacted_movies = interactions_matrix.loc[user_id][interactions_matrix.loc[user_id].isnull()].index.tolist()\n",
        "    for item_id in non_interacted_movies:\n",
        "        prediction = algorithm.predict(user_id, item_id).est\n",
        "        \n",
        "        movie_name = movie_metadata[movie_metadata['id']==str(item_id)]['title'].values[0]\n",
        "        recommended_list.append((movie_name, prediction))\n",
        "\n",
        "    recommended_list.sort(key=lambda x: x[1], reverse=True)\n",
        "\n",
        "    return recommended_list[:number_of_movies] "
      ],
      "metadata": {
        "id": "pLEoyMXmQvSL"
      },
      "id": "pLEoyMXmQvSL",
      "execution_count": 67,
      "outputs": []
    },
    {
      "cell_type": "code",
      "source": [],
      "metadata": {
        "id": "bIl4GC3cSGcF"
      },
      "id": "bIl4GC3cSGcF",
      "execution_count": 67,
      "outputs": []
    },
    {
      "cell_type": "code",
      "source": [
        "recommend_movie(data=ratings_data,movie_metadata=movie_metadata, user_id=654, number_of_movies=10, algorithm=svd)"
      ],
      "metadata": {
        "colab": {
          "base_uri": "https://localhost:8080/"
        },
        "id": "ioX1Dvv6RD5L",
        "outputId": "51759dbd-cdc4-4741-da3a-e0599e3de981"
      },
      "id": "ioX1Dvv6RD5L",
      "execution_count": 68,
      "outputs": [
        {
          "output_type": "execute_result",
          "data": {
            "text/plain": [
              "[('The Thomas Crown Affair', 4.994751331307456),\n",
              " ('Dead Man', 4.969477043534001),\n",
              " ('The Sixth Sense', 4.959233135054396),\n",
              " ('Nell', 4.952224585254854),\n",
              " ('While You Were Sleeping', 4.944744479722165),\n",
              " ('Frankenstein', 4.940587807896221),\n",
              " (\"Don't Worry, I'm Fine\", 4.92196900673639),\n",
              " ('The Thomas Crown Affair', 4.899751530889703),\n",
              " ('Birdman of Alcatraz', 4.889609145290421),\n",
              " ('Madagascar', 4.853461852935395)]"
            ]
          },
          "metadata": {},
          "execution_count": 68
        }
      ]
    },
    {
      "cell_type": "markdown",
      "source": [
        "**Memory based Recommender System**\n",
        "\n"
      ],
      "metadata": {
        "id": "37GfENECRhQ7"
      },
      "id": "37GfENECRhQ7"
    },
    {
      "cell_type": "markdown",
      "source": [
        "**User Based Collaborative Field**"
      ],
      "metadata": {
        "id": "EcWW92AUSUhQ"
      },
      "id": "EcWW92AUSUhQ"
    },
    {
      "cell_type": "code",
      "source": [
        "!pip install surprise"
      ],
      "metadata": {
        "colab": {
          "base_uri": "https://localhost:8080/"
        },
        "id": "BXDS0ba7SRq8",
        "outputId": "2e3b67ed-3e8e-4137-ae59-2f281070ae24"
      },
      "id": "BXDS0ba7SRq8",
      "execution_count": 4,
      "outputs": [
        {
          "output_type": "stream",
          "name": "stdout",
          "text": [
            "Looking in indexes: https://pypi.org/simple, https://us-python.pkg.dev/colab-wheels/public/simple/\n",
            "Collecting surprise\n",
            "  Downloading surprise-0.1-py2.py3-none-any.whl (1.8 kB)\n",
            "Collecting scikit-surprise\n",
            "  Downloading scikit-surprise-1.1.3.tar.gz (771 kB)\n",
            "\u001b[2K     \u001b[90m━━━━━━━━━━━━━━━━━━━━━━━━━━━━━━━━━━━━━━\u001b[0m \u001b[32m772.0/772.0 kB\u001b[0m \u001b[31m20.0 MB/s\u001b[0m eta \u001b[36m0:00:00\u001b[0m\n",
            "\u001b[?25h  Preparing metadata (setup.py) ... \u001b[?25l\u001b[?25hdone\n",
            "Requirement already satisfied: joblib>=1.0.0 in /usr/local/lib/python3.10/dist-packages (from scikit-surprise->surprise) (1.2.0)\n",
            "Requirement already satisfied: numpy>=1.17.3 in /usr/local/lib/python3.10/dist-packages (from scikit-surprise->surprise) (1.22.4)\n",
            "Requirement already satisfied: scipy>=1.3.2 in /usr/local/lib/python3.10/dist-packages (from scikit-surprise->surprise) (1.10.1)\n",
            "Building wheels for collected packages: scikit-surprise\n",
            "  Building wheel for scikit-surprise (setup.py) ... \u001b[?25l\u001b[?25hdone\n",
            "  Created wheel for scikit-surprise: filename=scikit_surprise-1.1.3-cp310-cp310-linux_x86_64.whl size=3095448 sha256=cbc920c178f01793b3a75ab148f014c4a7ed14a94c17ffc183765b0ff102d902\n",
            "  Stored in directory: /root/.cache/pip/wheels/a5/ca/a8/4e28def53797fdc4363ca4af740db15a9c2f1595ebc51fb445\n",
            "Successfully built scikit-surprise\n",
            "Installing collected packages: scikit-surprise, surprise\n",
            "Successfully installed scikit-surprise-1.1.3 surprise-0.1\n"
          ]
        }
      ]
    },
    {
      "cell_type": "code",
      "source": [
        "from surprise.prediction_algorithms.knns import KNNBasic"
      ],
      "metadata": {
        "id": "PwQIumSIRD7t"
      },
      "id": "PwQIumSIRD7t",
      "execution_count": 81,
      "outputs": []
    },
    {
      "cell_type": "code",
      "source": [
        "sim_options = {'name': 'cosine',\n",
        "               'user_based': True}\n",
        "\n",
        "similar_users = KNNBasic(sim_options=sim_options, verbose=False, random_state=33)\n",
        "\n",
        "similar_users.fit(training_data)"
      ],
      "metadata": {
        "colab": {
          "base_uri": "https://localhost:8080/"
        },
        "id": "QnS04GQ9RD-M",
        "outputId": "f4597037-0428-458a-96f6-662c2a85dccf"
      },
      "id": "QnS04GQ9RD-M",
      "execution_count": 82,
      "outputs": [
        {
          "output_type": "execute_result",
          "data": {
            "text/plain": [
              "<surprise.prediction_algorithms.knns.KNNBasic at 0x7f1b34b35000>"
            ]
          },
          "metadata": {},
          "execution_count": 82
        }
      ]
    },
    {
      "cell_type": "code",
      "source": [
        "similar_users.predict(uid=3,iid=2959,r_ui=5.0)"
      ],
      "metadata": {
        "id": "yavmWHACREAc"
      },
      "id": "yavmWHACREAc",
      "execution_count": null,
      "outputs": []
    },
    {
      "cell_type": "code",
      "source": [
        "recommend_movie(ratings_data, movie_metadata, 671,10,similar_users)"
      ],
      "metadata": {
        "colab": {
          "base_uri": "https://localhost:8080/"
        },
        "id": "RIqziJjtSH4L",
        "outputId": "3b8e3954-f88e-4dec-8409-074079109f41"
      },
      "id": "RIqziJjtSH4L",
      "execution_count": 74,
      "outputs": [
        {
          "output_type": "execute_result",
          "data": {
            "text/plain": [
              "[('The Wizard', 5),\n",
              " ('Rio Bravo', 5),\n",
              " ('The Celebration', 5),\n",
              " ('Spider-Man 3', 5),\n",
              " ('A Streetcar Named Desire', 5),\n",
              " ('Gentlemen Prefer Blondes', 5),\n",
              " ('The Evil Dead', 5),\n",
              " ('JFK', 5),\n",
              " (\"Singin' in the Rain\", 5),\n",
              " (\"Frank Herbert's Dune\", 5)]"
            ]
          },
          "metadata": {},
          "execution_count": 74
        }
      ]
    },
    {
      "cell_type": "markdown",
      "source": [
        "**Item Based Collaborative Filtering**"
      ],
      "metadata": {
        "id": "W0r6216JSXiw"
      },
      "id": "W0r6216JSXiw"
    },
    {
      "cell_type": "code",
      "source": [
        "similar_options = {'name': 'cosine',\n",
        "               'user_based': False}\n",
        "\n",
        "similar_item = KNNBasic(sim_options=sim_options, verbose=False, random_state=33)\n",
        "\n",
        "similar_item.fit(training_data)"
      ],
      "metadata": {
        "colab": {
          "base_uri": "https://localhost:8080/"
        },
        "id": "16sKRnwVSems",
        "outputId": "af9b24e8-7abe-41a2-bb58-30d92917ede2"
      },
      "id": "16sKRnwVSems",
      "execution_count": 78,
      "outputs": [
        {
          "output_type": "execute_result",
          "data": {
            "text/plain": [
              "<surprise.prediction_algorithms.knns.KNNBasic at 0x7f1b34b34c40>"
            ]
          },
          "metadata": {},
          "execution_count": 78
        }
      ]
    },
    {
      "cell_type": "code",
      "source": [
        "similar_item.predict(uid=3,iid=2959,r_ui=5.0)"
      ],
      "metadata": {
        "id": "XRPtRIVZSlFq"
      },
      "id": "XRPtRIVZSlFq",
      "execution_count": null,
      "outputs": []
    },
    {
      "cell_type": "code",
      "source": [
        "recommend_movie(ratings_data, movie_metadata, 671,10,similar_item)"
      ],
      "metadata": {
        "colab": {
          "base_uri": "https://localhost:8080/"
        },
        "id": "YEh7gtMVSlK8",
        "outputId": "35f45f87-31e9-4054-a8f7-77a23706c536"
      },
      "id": "YEh7gtMVSlK8",
      "execution_count": 80,
      "outputs": [
        {
          "output_type": "execute_result",
          "data": {
            "text/plain": [
              "[('The Wizard', 5),\n",
              " ('Rio Bravo', 5),\n",
              " ('The Celebration', 5),\n",
              " ('Spider-Man 3', 5),\n",
              " ('A Streetcar Named Desire', 5),\n",
              " ('Gentlemen Prefer Blondes', 5),\n",
              " ('The Evil Dead', 5),\n",
              " ('JFK', 5),\n",
              " (\"Singin' in the Rain\", 5),\n",
              " (\"Frank Herbert's Dune\", 5)]"
            ]
          },
          "metadata": {},
          "execution_count": 80
        }
      ]
    },
    {
      "cell_type": "code",
      "source": [],
      "metadata": {
        "id": "Nj-JFeYFSlNJ"
      },
      "id": "Nj-JFeYFSlNJ",
      "execution_count": null,
      "outputs": []
    }
  ],
  "metadata": {
    "kernelspec": {
      "display_name": "Python 3 (ipykernel)",
      "language": "python",
      "name": "python3"
    },
    "language_info": {
      "codemirror_mode": {
        "name": "ipython",
        "version": 3
      },
      "file_extension": ".py",
      "mimetype": "text/x-python",
      "name": "python",
      "nbconvert_exporter": "python",
      "pygments_lexer": "ipython3",
      "version": "3.9.7"
    },
    "colab": {
      "provenance": []
    },
    "accelerator": "GPU",
    "gpuClass": "standard"
  },
  "nbformat": 4,
  "nbformat_minor": 5
}